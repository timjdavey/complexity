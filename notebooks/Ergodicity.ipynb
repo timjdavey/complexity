{
 "cells": [
  {
   "cell_type": "code",
   "execution_count": 1,
   "id": "b61a978c",
   "metadata": {},
   "outputs": [],
   "source": [
    "import nbsetup\n",
    "import numpy as np\n",
    "import pandas as pd\n",
    "import seaborn as sns\n",
    "from helpers.ergodic import ErgodicEnsemble"
   ]
  },
  {
   "cell_type": "markdown",
   "id": "f0e9011a",
   "metadata": {},
   "source": [
    "https://www.youtube.com/watch?v=LGqOH3sYmQA"
   ]
  },
  {
   "cell_type": "code",
   "execution_count": null,
   "id": "2b07288b",
   "metadata": {
    "scrolled": true
   },
   "outputs": [],
   "source": [
    "ensembles = 1\n",
    "timesteps = 100\n",
    "\n",
    "data = {'x': np.arange(timesteps+1)}\n",
    "for i in range(ensembles):\n",
    "    series = [100]\n",
    "    for t in range(timesteps):\n",
    "        if np.random.choice([True, False]):\n",
    "            s = series[t]*1.5\n",
    "        else:\n",
    "            s = series[t]*0.6\n",
    "        series.append(s)\n",
    "    data[i] = np.array(series)\n",
    "\n",
    "df = pd.DataFrame(data)\n",
    "g = sns.lineplot(x='x', y='value', ci=None, hue='variable', data=df.melt(id_vars=['x']), legend=0)\n",
    "g.set(yscale='log')"
   ]
  }
 ],
 "metadata": {
  "kernelspec": {
   "display_name": "Python 3",
   "language": "python",
   "name": "python3"
  },
  "language_info": {
   "codemirror_mode": {
    "name": "ipython",
    "version": 3
   },
   "file_extension": ".py",
   "mimetype": "text/x-python",
   "name": "python",
   "nbconvert_exporter": "python",
   "pygments_lexer": "ipython3",
   "version": "3.9.5"
  }
 },
 "nbformat": 4,
 "nbformat_minor": 5
}
