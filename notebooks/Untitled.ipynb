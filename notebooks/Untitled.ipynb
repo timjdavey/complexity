{
 "cells": [
  {
   "cell_type": "code",
   "execution_count": 22,
   "id": "32064c66",
   "metadata": {},
   "outputs": [],
   "source": [
    "import nbsetup\n",
    "import numpy as np\n",
    "import ergodicpy as ep\n",
    "import seaborn as sns"
   ]
  },
  {
   "cell_type": "code",
   "execution_count": null,
   "id": "59d9209f",
   "metadata": {},
   "outputs": [],
   "source": [
    "np.array([np.ones(8)]).shape"
   ]
  },
  {
   "cell_type": "code",
   "execution_count": 15,
   "id": "40b11776",
   "metadata": {},
   "outputs": [
    {
     "data": {
      "text/plain": [
       "array([0. , 0.2, 0.4, 0.6, 0.8, 1. ])"
      ]
     },
     "execution_count": 15,
     "metadata": {},
     "output_type": "execute_result"
    }
   ],
   "source": [
    "ep.binr(observations=[[0,1],[1]], count=5)"
   ]
  },
  {
   "cell_type": "code",
   "execution_count": 14,
   "id": "71c885e3",
   "metadata": {},
   "outputs": [
    {
     "data": {
      "text/plain": [
       "array([0. , 0.2, 0.4, 0.6, 0.8, 1. ])"
      ]
     },
     "execution_count": 14,
     "metadata": {},
     "output_type": "execute_result"
    }
   ],
   "source": [
    "np.linspace(0,1,6)"
   ]
  },
  {
   "cell_type": "code",
   "execution_count": 16,
   "id": "f1b780ca",
   "metadata": {},
   "outputs": [
    {
     "data": {
      "text/plain": [
       "0"
      ]
     },
     "execution_count": 16,
     "metadata": {},
     "output_type": "execute_result"
    }
   ],
   "source": [
    "len([])"
   ]
  },
  {
   "cell_type": "code",
   "execution_count": 19,
   "id": "260c849f",
   "metadata": {},
   "outputs": [
    {
     "data": {
      "text/plain": [
       "4"
      ]
     },
     "execution_count": 19,
     "metadata": {},
     "output_type": "execute_result"
    }
   ],
   "source": [
    "np.array([1,2,3,4]).size"
   ]
  },
  {
   "cell_type": "code",
   "execution_count": 48,
   "id": "956ffa0e",
   "metadata": {},
   "outputs": [
    {
     "data": {
      "text/plain": [
       "[[array([1., 1., 1., 1., 1., 1., 1., 1., 1., 1., 1., 1., 1., 1., 1., 1., 1.,\n",
       "         1., 1., 1.]),\n",
       "  array([1., 1., 1., 1., 1., 1., 1., 1., 1., 1.])],\n",
       " [array([1., 1., 1., 1., 1., 1., 1., 1., 1., 1., 1., 1., 1., 1., 1., 1., 1.,\n",
       "         1., 1., 1.]),\n",
       "  array([1., 1., 1., 1., 1., 1., 1., 1., 1., 1.])]]"
      ]
     },
     "execution_count": 48,
     "metadata": {},
     "output_type": "execute_result"
    }
   ],
   "source": [
    "[[np.ones(20),np.ones(10)],[np.ones(20),np.ones(10)]]"
   ]
  },
  {
   "cell_type": "code",
   "execution_count": 49,
   "id": "b6a67752",
   "metadata": {},
   "outputs": [
    {
     "data": {
      "text/plain": [
       "array([array([1., 1., 1., 1., 1., 1., 1., 1., 1., 1., 1., 1., 1., 1., 1., 1., 1.,\n",
       "              1., 1., 1.])                                                       ,\n",
       "       array([1., 1., 1., 1., 1., 1., 1., 1., 1., 1.]),\n",
       "       array([1., 1., 1., 1., 1., 1., 1., 1., 1., 1., 1., 1., 1., 1., 1., 1., 1.,\n",
       "              1., 1., 1.])                                                       ,\n",
       "       array([1., 1., 1., 1., 1., 1., 1., 1., 1., 1.])], dtype=object)"
      ]
     },
     "execution_count": 49,
     "metadata": {},
     "output_type": "execute_result"
    }
   ],
   "source": [
    "np.hstack([[np.ones(20),np.ones(10)],[np.ones(20),np.ones(10)]])"
   ]
  },
  {
   "cell_type": "code",
   "execution_count": 42,
   "id": "b4adfe55",
   "metadata": {},
   "outputs": [
    {
     "data": {
      "text/plain": [
       "0.0"
      ]
     },
     "execution_count": 42,
     "metadata": {},
     "output_type": "execute_result"
    }
   ],
   "source": [
    "ep.shannon_entropy([0,1])"
   ]
  },
  {
   "cell_type": "code",
   "execution_count": null,
   "id": "43916ecf",
   "metadata": {},
   "outputs": [],
   "source": []
  }
 ],
 "metadata": {
  "kernelspec": {
   "display_name": "Python 3",
   "language": "python",
   "name": "python3"
  },
  "language_info": {
   "codemirror_mode": {
    "name": "ipython",
    "version": 3
   },
   "file_extension": ".py",
   "mimetype": "text/x-python",
   "name": "python",
   "nbconvert_exporter": "python",
   "pygments_lexer": "ipython3",
   "version": "3.9.5"
  }
 },
 "nbformat": 4,
 "nbformat_minor": 5
}
