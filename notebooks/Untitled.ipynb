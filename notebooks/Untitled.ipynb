{
 "cells": [
  {
   "cell_type": "code",
   "execution_count": 1,
   "id": "4e212617",
   "metadata": {},
   "outputs": [],
   "source": [
    "import nbsetup as nb\n",
    "import numpy as np\n",
    "import ergodicpy as ep\n",
    "\n",
    "from simulations.daisy_world.series import series, scan"
   ]
  },
  {
   "cell_type": "code",
   "execution_count": 2,
   "id": "c1a1dc17",
   "metadata": {},
   "outputs": [],
   "source": [
    "pop3 = {\n",
    "        'white': {'albedo': 0.75, 'initial': 0.3},\n",
    "        'black': {'albedo': 0.25, 'initial': 0.3},\n",
    "        }"
   ]
  },
  {
   "cell_type": "code",
   "execution_count": null,
   "id": "ec3e3f7b",
   "metadata": {},
   "outputs": [
    {
     "name": "stdout",
     "output_type": "stream",
     "text": [
      "luminosity: 0.8581632653061224, steps left: 96\n"
     ]
    }
   ],
   "source": [
    "wv, fig = scan(luminosities=np.linspace(0.5, 1.8, 99), population=pop3, ensembles=20, steps=200, cp=nb.cp)"
   ]
  },
  {
   "cell_type": "code",
   "execution_count": null,
   "id": "d2f83233",
   "metadata": {},
   "outputs": [],
   "source": []
  }
 ],
 "metadata": {
  "kernelspec": {
   "display_name": "Python 3",
   "language": "python",
   "name": "python3"
  },
  "language_info": {
   "codemirror_mode": {
    "name": "ipython",
    "version": 3
   },
   "file_extension": ".py",
   "mimetype": "text/x-python",
   "name": "python",
   "nbconvert_exporter": "python",
   "pygments_lexer": "ipython3",
   "version": "3.9.5"
  }
 },
 "nbformat": 4,
 "nbformat_minor": 5
}
