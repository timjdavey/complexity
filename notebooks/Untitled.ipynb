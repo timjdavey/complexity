{
 "cells": [
  {
   "cell_type": "code",
   "execution_count": 1,
   "id": "4e212617",
   "metadata": {},
   "outputs": [],
   "source": [
    "import nbsetup as nb\n",
    "import numpy as np\n",
    "import ergodicpy as ep\n",
    "\n",
    "from simulations.daisy_world.series import series, scan"
   ]
  },
  {
   "cell_type": "code",
   "execution_count": null,
   "id": "0fa7cf24",
   "metadata": {},
   "outputs": [
    {
     "name": "stdout",
     "output_type": "stream",
     "text": [
      "luminosity: 0.5867346938775511, steps left: 41\n"
     ]
    }
   ],
   "source": [
    "worlds, fig = scan(np.linspace(0.50, 1.0, 99), steps=200, cp=nb.cp)"
   ]
  },
  {
   "cell_type": "code",
   "execution_count": null,
   "id": "6ccbf9a6",
   "metadata": {},
   "outputs": [],
   "source": [
    "worlds.dataframe()"
   ]
  },
  {
   "cell_type": "code",
   "execution_count": null,
   "id": "acac1248",
   "metadata": {
    "scrolled": false
   },
   "outputs": [],
   "source": [
    "ss = series(ensembles=3, luminosity=0.56, steps=100, cp=nb.cp)\n",
    "ss.results()"
   ]
  },
  {
   "cell_type": "code",
   "execution_count": null,
   "id": "2b50aa1b",
   "metadata": {},
   "outputs": [],
   "source": []
  }
 ],
 "metadata": {
  "kernelspec": {
   "display_name": "Python 3",
   "language": "python",
   "name": "python3"
  },
  "language_info": {
   "codemirror_mode": {
    "name": "ipython",
    "version": 3
   },
   "file_extension": ".py",
   "mimetype": "text/x-python",
   "name": "python",
   "nbconvert_exporter": "python",
   "pygments_lexer": "ipython3",
   "version": "3.9.5"
  }
 },
 "nbformat": 4,
 "nbformat_minor": 5
}
