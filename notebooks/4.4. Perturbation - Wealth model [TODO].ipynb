{
 "cells": [
  {
   "cell_type": "code",
   "execution_count": 1,
   "id": "4af7acf1",
   "metadata": {},
   "outputs": [],
   "source": [
    "import nbsetup\n",
    "import ergodicpy as ep\n",
    "from simulations.wealth.series import generate"
   ]
  },
  {
   "cell_type": "code",
   "execution_count": 2,
   "id": "c3d7c65f",
   "metadata": {},
   "outputs": [
    {
     "data": {
      "text/plain": [
       "[<simulations.wealth.models.MoneyModel at 0x7fcfe0a57a60>,\n",
       " <simulations.wealth.models.MoneyModel at 0x7fcfe0a57a90>,\n",
       " <simulations.wealth.models.MoneyModel at 0x7fcfe0a63220>,\n",
       " <simulations.wealth.models.MoneyModel at 0x7fcfe0a63160>,\n",
       " <simulations.wealth.models.MoneyModel at 0x7fd0006580a0>,\n",
       " <simulations.wealth.models.MoneyModel at 0x7fd00065f460>,\n",
       " <simulations.wealth.models.MoneyModel at 0x7fd000667820>,\n",
       " <simulations.wealth.models.MoneyModel at 0x7fd00066fbe0>,\n",
       " <simulations.wealth.models.MoneyModel at 0x7fd000676fa0>,\n",
       " <simulations.wealth.models.MoneyModel at 0x7fd0006873a0>,\n",
       " <simulations.wealth.models.MoneyModel at 0x7fcfe0a76760>,\n",
       " <simulations.wealth.models.MoneyModel at 0x7fcfe0a7fb20>,\n",
       " <simulations.wealth.models.MoneyModel at 0x7fcfe0a86ee0>,\n",
       " <simulations.wealth.models.MoneyModel at 0x7fcfe0a962e0>,\n",
       " <simulations.wealth.models.MoneyModel at 0x7fcfe0a9d6a0>,\n",
       " <simulations.wealth.models.MoneyModel at 0x7fcfe0aa6a60>,\n",
       " <simulations.wealth.models.MoneyModel at 0x7fcfe084a9a0>,\n",
       " <simulations.wealth.models.MoneyModel at 0x7fcff02b61c0>,\n",
       " <simulations.wealth.models.MoneyModel at 0x7fcff02bd580>,\n",
       " <simulations.wealth.models.MoneyModel at 0x7fcff02c4940>]"
      ]
     },
     "execution_count": 2,
     "metadata": {},
     "output_type": "execute_result"
    }
   ],
   "source": [
    "generate()"
   ]
  },
  {
   "cell_type": "code",
   "execution_count": 4,
   "id": "22900089",
   "metadata": {},
   "outputs": [
    {
     "data": {
      "text/plain": [
       "array([1., 2., 3.])"
      ]
     },
     "execution_count": 4,
     "metadata": {},
     "output_type": "execute_result"
    }
   ],
   "source": [
    "ep.binr(observations=[1,2,3])"
   ]
  },
  {
   "cell_type": "code",
   "execution_count": 5,
   "id": "0ebe99f0",
   "metadata": {},
   "outputs": [],
   "source": [
    "from ergodicpy.bins import list_observations"
   ]
  },
  {
   "cell_type": "code",
   "execution_count": 6,
   "id": "396eaee0",
   "metadata": {},
   "outputs": [
    {
     "data": {
      "text/plain": [
       "([1, 2, 3], None)"
      ]
     },
     "execution_count": 6,
     "metadata": {},
     "output_type": "execute_result"
    }
   ],
   "source": [
    "list_observations([1,2,3])"
   ]
  },
  {
   "cell_type": "code",
   "execution_count": 14,
   "id": "c9e4a210",
   "metadata": {},
   "outputs": [
    {
     "name": "stderr",
     "output_type": "stream",
     "text": [
      "<ipython-input-14-745d074ab70a>:1: VisibleDeprecationWarning: Creating an ndarray from ragged nested sequences (which is a list-or-tuple of lists-or-tuples-or ndarrays with different lengths or shapes) is deprecated. If you meant to do this, you must specify 'dtype=object' when creating the ndarray.\n",
      "  np.array([[0,1,3],[0,5]]).shape\n"
     ]
    },
    {
     "data": {
      "text/plain": [
       "(2,)"
      ]
     },
     "execution_count": 14,
     "metadata": {},
     "output_type": "execute_result"
    }
   ],
   "source": [
    "np.array([[0,1,3],[0,5]]).shape"
   ]
  },
  {
   "cell_type": "code",
   "execution_count": 8,
   "id": "c6add5ed",
   "metadata": {},
   "outputs": [],
   "source": [
    "import numpy as np"
   ]
  },
  {
   "cell_type": "code",
   "execution_count": null,
   "id": "33175631",
   "metadata": {},
   "outputs": [],
   "source": []
  }
 ],
 "metadata": {
  "kernelspec": {
   "display_name": "Python 3",
   "language": "python",
   "name": "python3"
  },
  "language_info": {
   "codemirror_mode": {
    "name": "ipython",
    "version": 3
   },
   "file_extension": ".py",
   "mimetype": "text/x-python",
   "name": "python",
   "nbconvert_exporter": "python",
   "pygments_lexer": "ipython3",
   "version": "3.9.5"
  }
 },
 "nbformat": 4,
 "nbformat_minor": 5
}
