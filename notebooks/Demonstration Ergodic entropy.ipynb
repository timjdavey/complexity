{
 "cells": [
  {
   "cell_type": "code",
   "execution_count": null,
   "id": "b61a978c",
   "metadata": {},
   "outputs": [],
   "source": [
    "import nbsetup\n",
    "import numpy as np\n",
    "import pandas as pd\n",
    "import seaborn as sns\n",
    "from helpers.ergodic import ErgodicEnsemble"
   ]
  },
  {
   "cell_type": "markdown",
   "id": "f0e9011a",
   "metadata": {},
   "source": [
    "https://www.youtube.com/watch?v=LGqOH3sYmQA"
   ]
  },
  {
   "cell_type": "code",
   "execution_count": null,
   "id": "2b07288b",
   "metadata": {
    "scrolled": true
   },
   "outputs": [],
   "source": [
    "ensembles = 1\n",
    "timesteps = 100\n",
    "\n",
    "data = {'x': np.arange(timesteps+1)}\n",
    "for i in range(ensembles):\n",
    "    series = [100]\n",
    "    for t in range(timesteps):\n",
    "        if np.random.choice([True, False]):\n",
    "            s = series[t]*1.5\n",
    "        else:\n",
    "            s = series[t]*0.6\n",
    "        series.append(s)\n",
    "    data[i] = np.array(series)\n",
    "\n",
    "df = pd.DataFrame(data)\n",
    "g = sns.lineplot(x='x', y='value', ci=None, hue='variable', data=df.melt(id_vars=['x']), legend=0)\n",
    "g.set(yscale='log')"
   ]
  },
  {
   "cell_type": "code",
   "execution_count": null,
   "id": "c7836892",
   "metadata": {},
   "outputs": [],
   "source": [
    "# Standardise \n",
    "MAX = 200\n",
    "ENSEMBLES = 7\n",
    "OBS = 10000\n",
    "\n",
    "def gen_ee(func):\n",
    "    data = []\n",
    "    for i in range(ENSEMBLES):\n",
    "        row = func()\n",
    "        data.append(row)\n",
    "    data = np.array(data)\n",
    "    bins = np.linspace(int(np.floor(data.min())), int(np.ceil(data.max())), int(OBS/100))\n",
    "    ee = ErgodicEnsemble(observations=data, bins=bins)\n",
    "    return ee"
   ]
  },
  {
   "cell_type": "code",
   "execution_count": null,
   "id": "34d0e89b",
   "metadata": {
    "scrolled": true
   },
   "outputs": [],
   "source": [
    "eep = gen_ee(lambda: np.random.power(5,OBS)*MAX)\n",
    "eep.plot()"
   ]
  },
  {
   "cell_type": "code",
   "execution_count": null,
   "id": "fb0646f8",
   "metadata": {
    "scrolled": false
   },
   "outputs": [],
   "source": [
    "eep.ridge()"
   ]
  },
  {
   "cell_type": "code",
   "execution_count": null,
   "id": "c4e00e72",
   "metadata": {},
   "outputs": [],
   "source": [
    "eep.stats()"
   ]
  },
  {
   "cell_type": "code",
   "execution_count": null,
   "id": "838b1385",
   "metadata": {
    "scrolled": true
   },
   "outputs": [],
   "source": [
    "def uni_data():\n",
    "    mu = np.random.normal(MAX/2, 1)\n",
    "    return np.random.normal(mu, 0.5, 1000)\n",
    "\n",
    "eeu = gen_ee(uni_data)\n",
    "eeu.plot()"
   ]
  },
  {
   "cell_type": "code",
   "execution_count": null,
   "id": "09610d75",
   "metadata": {
    "scrolled": false
   },
   "outputs": [],
   "source": [
    "eeu.ridge()"
   ]
  },
  {
   "cell_type": "code",
   "execution_count": null,
   "id": "a4b6efa8",
   "metadata": {},
   "outputs": [],
   "source": []
  },
  {
   "cell_type": "code",
   "execution_count": null,
   "id": "cdb2b514",
   "metadata": {},
   "outputs": [],
   "source": []
  }
 ],
 "metadata": {
  "kernelspec": {
   "display_name": "Python 3",
   "language": "python",
   "name": "python3"
  },
  "language_info": {
   "codemirror_mode": {
    "name": "ipython",
    "version": 3
   },
   "file_extension": ".py",
   "mimetype": "text/x-python",
   "name": "python",
   "nbconvert_exporter": "python",
   "pygments_lexer": "ipython3",
   "version": "3.9.5"
  }
 },
 "nbformat": 4,
 "nbformat_minor": 5
}
