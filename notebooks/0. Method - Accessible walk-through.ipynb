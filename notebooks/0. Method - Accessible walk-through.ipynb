{
 "cells": [
  {
   "cell_type": "code",
   "execution_count": 1,
   "id": "b5d53223",
   "metadata": {},
   "outputs": [],
   "source": [
    "import nbsetup\n",
    "import numpy as np\n",
    "import ergodicpy as ep"
   ]
  },
  {
   "cell_type": "code",
   "execution_count": 2,
   "id": "548604b9",
   "metadata": {},
   "outputs": [],
   "source": [
    "def pmf(sequence):\n",
    "    \"\"\" Calculates the pmf for a given boolean sequence \"\"\"\n",
    "    p1 = sequence.count(\"1\")\n",
    "    total = len(sequence)\n",
    "    return [p1/total, 1 - p1/total]\n",
    "\n",
    "def run_cases(cases):\n",
    "    \"\"\" Calculates complexity and ensembles entropies for sequence of bools \"\"\"\n",
    "    pmfs = [pmf(c) for c in cases]\n",
    "    measures = ep.measures(pmfs)\n",
    "    for i, key in enumerate((\"Ensemble\", \"Ergodic Entropy\", \"Divergence\", \"Ergodic Complexity\", \"Entropies\")):\n",
    "        print(key, measures[i])"
   ]
  },
  {
   "cell_type": "markdown",
   "id": "a99b2a57",
   "metadata": {},
   "source": [
    "## Ordered case"
   ]
  },
  {
   "cell_type": "code",
   "execution_count": 3,
   "id": "c217a64d",
   "metadata": {
    "scrolled": true
   },
   "outputs": [
    {
     "name": "stdout",
     "output_type": "stream",
     "text": [
      "Ensemble 0.8580565295242412\n",
      "Ergodic Entropy 0.8812908992306926\n",
      "Divergence 0.02323436970645143\n",
      "Ergodic Complexity 0.026364018653470156\n",
      "Entropies [0.8812908992306927, 0.7219280948873623, 0.9709505944546686]\n"
     ]
    }
   ],
   "source": [
    "run_cases([\"1110000000\", \"1100000000\", \"1111000000\"])"
   ]
  },
  {
   "cell_type": "markdown",
   "id": "636fbc5c",
   "metadata": {},
   "source": [
    "## Ergodically complex case"
   ]
  },
  {
   "cell_type": "code",
   "execution_count": 4,
   "id": "98f19bd9",
   "metadata": {},
   "outputs": [
    {
     "name": "stdout",
     "output_type": "stream",
     "text": [
      "Ensemble 0.46899559358928117\n",
      "Ergodic Entropy 0.9480782435939055\n",
      "Divergence 0.4790826500046243\n",
      "Ergodic Complexity 0.5053197383673239\n",
      "Entropies [0.4689955935892812, 0.4689955935892811, 0.4689955935892811]\n"
     ]
    }
   ],
   "source": [
    "run_cases([\"1000000000\", \"0111111111\", \"0111111111\"])"
   ]
  },
  {
   "cell_type": "markdown",
   "id": "e8621fa7",
   "metadata": {},
   "source": [
    "## Disordered case"
   ]
  },
  {
   "cell_type": "code",
   "execution_count": 5,
   "id": "efb20de6",
   "metadata": {},
   "outputs": [
    {
     "name": "stdout",
     "output_type": "stream",
     "text": [
      "Ensemble 0.8812908992306928\n",
      "Ergodic Entropy 0.8812908992306927\n",
      "Divergence -1.1102230246251565e-16\n",
      "Ergodic Complexity 0.0\n",
      "Entropies [0.8812908992306927, 0.8812908992306927, 0.8812908992306927]\n"
     ]
    }
   ],
   "source": [
    "run_cases([\"1011101011\", \"1110101101\", \"1110101110\"])"
   ]
  },
  {
   "cell_type": "code",
   "execution_count": null,
   "id": "6edadeda",
   "metadata": {},
   "outputs": [],
   "source": []
  }
 ],
 "metadata": {
  "kernelspec": {
   "display_name": "complexity",
   "language": "python",
   "name": "complexity"
  },
  "language_info": {
   "codemirror_mode": {
    "name": "ipython",
    "version": 3
   },
   "file_extension": ".py",
   "mimetype": "text/x-python",
   "name": "python",
   "nbconvert_exporter": "python",
   "pygments_lexer": "ipython3",
   "version": "3.9.5"
  }
 },
 "nbformat": 4,
 "nbformat_minor": 5
}
