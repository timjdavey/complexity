{
 "cells": [
  {
   "cell_type": "code",
   "execution_count": 3,
   "id": "b5d53223",
   "metadata": {},
   "outputs": [],
   "source": [
    "import nbsetup\n",
    "import numpy as np\n",
    "from helpers.entropy import shannon_entropy, complexity"
   ]
  },
  {
   "cell_type": "code",
   "execution_count": 19,
   "id": "548604b9",
   "metadata": {},
   "outputs": [],
   "source": [
    "def calc(sequence):\n",
    "    \"\"\" Calculates entropy for a given sequence of bools \"\"\"\n",
    "    p1 = sequence.count(\"1\")\n",
    "    total = len(sequence)\n",
    "    return shannon_entropy([p1/total, 1 - p1/total], unit='nats')\n",
    "\n",
    "def run_cases(cases):\n",
    "    \"\"\" Calculates complexity and ensembles entropies for sequence of bools \"\"\"\n",
    "    entropies = []\n",
    "    for case in cases:\n",
    "        entropies.append(calc(case))\n",
    "    avg_entropy = np.mean(entropies)\n",
    "    erg_entropy = calc(\"\".join(cases))\n",
    "    c = complexity(avg_entropy, erg_entropy)\n",
    "    print(\"Ensemble entropies (bits):\", entropies)\n",
    "    print(\"Divergence (bits):\", erg_entropy-avg_entropy)\n",
    "    print(\"Complexity:\", c)"
   ]
  },
  {
   "cell_type": "markdown",
   "id": "a99b2a57",
   "metadata": {},
   "source": [
    "## Ordered case"
   ]
  },
  {
   "cell_type": "code",
   "execution_count": 20,
   "id": "c217a64d",
   "metadata": {
    "scrolled": true
   },
   "outputs": [
    {
     "name": "stdout",
     "output_type": "stream",
     "text": [
      "Ensemble entropies (bits): [0.6108643020548935, 0.5004024235381879, 0.6730116670092565]\n",
      "Divergence (bits): 0.016104837854114207\n",
      "Complexity: 0.026364018653470156\n"
     ]
    }
   ],
   "source": [
    "run_cases([\"1110000000\", \"1100000000\", \"1111000000\"])"
   ]
  },
  {
   "cell_type": "markdown",
   "id": "636fbc5c",
   "metadata": {},
   "source": [
    "## Ergodically complex case"
   ]
  },
  {
   "cell_type": "code",
   "execution_count": 21,
   "id": "98f19bd9",
   "metadata": {},
   "outputs": [
    {
     "name": "stdout",
     "output_type": "stream",
     "text": [
      "Ensemble entropies (bits): [0.3250829733914482, 0.3250829733914482, 0.3250829733914482]\n",
      "Divergence (bits): 0.3320747881058923\n",
      "Complexity: 0.5053197383673238\n"
     ]
    }
   ],
   "source": [
    "run_cases([\"1000000000\", \"0111111111\", \"0111111111\"])"
   ]
  },
  {
   "cell_type": "markdown",
   "id": "e8621fa7",
   "metadata": {},
   "source": [
    "## Disordered case"
   ]
  },
  {
   "cell_type": "code",
   "execution_count": 22,
   "id": "efb20de6",
   "metadata": {},
   "outputs": [
    {
     "name": "stdout",
     "output_type": "stream",
     "text": [
      "Ensemble entropies (bits): [0.6108643020548935, 0.6108643020548935, 0.6108643020548935]\n",
      "Divergence (bits): 0.0\n",
      "Complexity: 0.0\n"
     ]
    }
   ],
   "source": [
    "run_cases([\"1011101011\", \"1110101101\", \"1110101110\"])"
   ]
  },
  {
   "cell_type": "code",
   "execution_count": null,
   "id": "6edadeda",
   "metadata": {},
   "outputs": [],
   "source": []
  }
 ],
 "metadata": {
  "kernelspec": {
   "display_name": "complexity",
   "language": "python",
   "name": "complexity"
  },
  "language_info": {
   "codemirror_mode": {
    "name": "ipython",
    "version": 3
   },
   "file_extension": ".py",
   "mimetype": "text/x-python",
   "name": "python",
   "nbconvert_exporter": "python",
   "pygments_lexer": "ipython3",
   "version": "3.9.5"
  }
 },
 "nbformat": 4,
 "nbformat_minor": 5
}
