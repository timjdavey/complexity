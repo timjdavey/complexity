{
 "cells": [
  {
   "cell_type": "code",
   "execution_count": 3,
   "id": "5971598e",
   "metadata": {},
   "outputs": [],
   "source": [
    "import nbsetup\n",
    "import pandas as pd\n",
    "import numpy as np\n",
    "import seaborn as sns\n",
    "from mesa import Agent, Model"
   ]
  },
  {
   "cell_type": "code",
   "execution_count": null,
   "id": "e5cf271c",
   "metadata": {},
   "outputs": [],
   "source": [
    "# Netlogo sim http://www.netlogoweb.org/launch#http://ccl.northwestern.edu/netlogo/models/models/Sample%20Models/Biology/Daisyworld.nlogo\n",
    "# Calcs http://gingerbooth.com/flash/daisyball/daisyworldmath.html\n",
    "# "
   ]
  },
  {
   "cell_type": "code",
   "execution_count": null,
   "id": "fc416370",
   "metadata": {},
   "outputs": [],
   "source": [
    "class Daisy(Agent):\n",
    "    \n",
    "\n",
    "\n",
    "class DaisyWorld(Model):\n",
    "    \n",
    "    def __init__(self, width=):\n",
    "        self.width = width\n",
    "        self.solar_luminosity = \n",
    "        self.surface_albedo = \n",
    "        self.albedo_white = \n",
    "        self.albedo_black = \n",
    "        \n",
    "    def step(self):\n",
    "        \n",
    "    \n",
    "    def run_model(self, distance):\n",
    "        for i in range(distance):\n",
    "            self.step()\n",
    "        "
   ]
  }
 ],
 "metadata": {
  "kernelspec": {
   "display_name": "Python 3",
   "language": "python",
   "name": "python3"
  },
  "language_info": {
   "codemirror_mode": {
    "name": "ipython",
    "version": 3
   },
   "file_extension": ".py",
   "mimetype": "text/x-python",
   "name": "python",
   "nbconvert_exporter": "python",
   "pygments_lexer": "ipython3",
   "version": "3.9.5"
  }
 },
 "nbformat": 4,
 "nbformat_minor": 5
}
