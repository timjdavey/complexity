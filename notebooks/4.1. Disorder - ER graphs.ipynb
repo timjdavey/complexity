{
 "cells": [
  {
   "cell_type": "code",
   "execution_count": 1,
   "id": "ea79596c",
   "metadata": {},
   "outputs": [],
   "source": [
    "import nbsetup\n",
    "import numpy as np\n",
    "import ergodicpy as ep\n",
    "from simulations.graphs.models import ERGraph"
   ]
  },
  {
   "cell_type": "code",
   "execution_count": 7,
   "id": "bf399438",
   "metadata": {},
   "outputs": [],
   "source": [
    "def series(nodes, ensembles=20, x=None):\n",
    "    if x is None:\n",
    "        x = np.linspace(0, 1, 100)\n",
    "    y = []\n",
    "    # generate data\n",
    "    for p in x:\n",
    "        y.append([ERGraph(nodes, p).edges_counts() for _ in range(ensembles)])\n",
    "    # analyse\n",
    "    ees = ep.ErgodicSeries(x=x, y=y, x_label='p', bins=ep.binr(0,nodes,int(nodes/2)))\n",
    "    ees.plot()\n",
    "    return ees"
   ]
  },
  {
   "cell_type": "markdown",
   "id": "3b399e88",
   "metadata": {},
   "source": [
    "# Balancing disorder\n",
    "\n",
    "Erdos-Renyi Graphs are good examples of how a system approaches disorder. Where initially the start with high order (i.e. _p=0_ where p is the probability that a node will connect with another node, so highly ordered as they're all entirely disconnected).\n",
    "\n",
    "When _p=0.5_ this is where the system is most disordered. However, what we see below is although the system is most disordered in this state, therefore has the highest entropy, the ergodic complexity in this case remains low. As all ensembles have the same high entropy, there's no interesting structure there."
   ]
  },
  {
   "cell_type": "code",
   "execution_count": null,
   "id": "473f0cdc",
   "metadata": {},
   "outputs": [],
   "source": [
    "hundred = series(100)"
   ]
  },
  {
   "cell_type": "markdown",
   "id": "381a394d",
   "metadata": {},
   "source": [
    "Interestingly though, there is a much higher complexity seen with fewer nodes."
   ]
  },
  {
   "cell_type": "code",
   "execution_count": null,
   "id": "83b7e1c8",
   "metadata": {
    "scrolled": false
   },
   "outputs": [],
   "source": [
    "ten = series(15)"
   ]
  },
  {
   "cell_type": "code",
   "execution_count": null,
   "id": "e3b7de0e",
   "metadata": {},
   "outputs": [],
   "source": []
  }
 ],
 "metadata": {
  "kernelspec": {
   "display_name": "Python 3",
   "language": "python",
   "name": "python3"
  },
  "language_info": {
   "codemirror_mode": {
    "name": "ipython",
    "version": 3
   },
   "file_extension": ".py",
   "mimetype": "text/x-python",
   "name": "python",
   "nbconvert_exporter": "python",
   "pygments_lexer": "ipython3",
   "version": "3.9.5"
  }
 },
 "nbformat": 4,
 "nbformat_minor": 5
}
