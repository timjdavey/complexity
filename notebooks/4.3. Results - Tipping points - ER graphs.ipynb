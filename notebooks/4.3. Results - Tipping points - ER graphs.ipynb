{
 "cells": [
  {
   "cell_type": "code",
   "execution_count": 1,
   "id": "75a7bc60",
   "metadata": {},
   "outputs": [],
   "source": [
    "import nbsetup as nb\n",
    "from simulations.graphs.series import series"
   ]
  },
  {
   "cell_type": "markdown",
   "id": "a39df5af",
   "metadata": {},
   "source": [
    "# Erdos Renyi graphs criticality\n",
    "\n",
    "A graph is considered \"connected\" if you can get to any node from any other node. ER graphs have an interesting property, where they have a sharp threshold / tipping point / critical point where for a given value of _p_ and _nodes_ the graphs go from being not connected to connected. This threshold is at _ln(n)/n_.\n",
    "\n",
    "What we show below, for various number of nodes, is the ergodic divergence spikes around this critical point (shown in red). We used the divergence rather than the complexity measure since there's only one bit of information per ensemble (either 1 is connected or 0 is not)."
   ]
  },
  {
   "cell_type": "code",
   "execution_count": null,
   "id": "b471b540",
   "metadata": {},
   "outputs": [
    {
     "name": "stdout",
     "output_type": "stream",
     "text": [
      "0.27\n"
     ]
    }
   ],
   "source": [
    "hundred = series(nodes=100, cp=nb.cp)"
   ]
  },
  {
   "cell_type": "markdown",
   "id": "392bfbf3",
   "metadata": {},
   "source": [
    "## Comparison to % connected\n",
    "\n",
    "Obviously in this case we could also use the same metric which is typically used in this case: the % of cases where the graph is connected vs not. This would give a graph which looks in shape similar to a cumulative distribution function. The point of using divergence here is only to demonstrate it's sensitivity to tipping points."
   ]
  },
  {
   "cell_type": "code",
   "execution_count": null,
   "id": "3c995968",
   "metadata": {
    "scrolled": false
   },
   "outputs": [],
   "source": [
    "ten = series(nodes=10, cp=nb.cp)"
   ]
  },
  {
   "cell_type": "markdown",
   "id": "c664dd7b",
   "metadata": {},
   "source": [
    "For fewer number of nodes, we see this ergodic divergence present for a much wider set of _p_ values."
   ]
  },
  {
   "cell_type": "markdown",
   "id": "87e28796",
   "metadata": {},
   "source": [
    "Then smaller for higher node values."
   ]
  },
  {
   "cell_type": "code",
   "execution_count": null,
   "id": "598be138",
   "metadata": {
    "scrolled": true
   },
   "outputs": [],
   "source": [
    "thousand = series(nodes=400, cp=nb.cp, percentage=True)"
   ]
  },
  {
   "cell_type": "code",
   "execution_count": null,
   "id": "95b11f37",
   "metadata": {},
   "outputs": [],
   "source": []
  }
 ],
 "metadata": {
  "kernelspec": {
   "display_name": "Python 3",
   "language": "python",
   "name": "python3"
  },
  "language_info": {
   "codemirror_mode": {
    "name": "ipython",
    "version": 3
   },
   "file_extension": ".py",
   "mimetype": "text/x-python",
   "name": "python",
   "nbconvert_exporter": "python",
   "pygments_lexer": "ipython3",
   "version": "3.9.5"
  }
 },
 "nbformat": 4,
 "nbformat_minor": 5
}
