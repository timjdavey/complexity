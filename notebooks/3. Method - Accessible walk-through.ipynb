{
 "cells": [
  {
   "cell_type": "code",
   "execution_count": 1,
   "id": "b5d53223",
   "metadata": {},
   "outputs": [],
   "source": [
    "import nbsetup\n",
    "import numpy as np\n",
    "import ergodicpy as ep"
   ]
  },
  {
   "cell_type": "code",
   "execution_count": 35,
   "id": "548604b9",
   "metadata": {},
   "outputs": [],
   "source": [
    "def pmf(sequence):\n",
    "    \"\"\" Calculates the pmf for a given boolean sequence \"\"\"\n",
    "    p1, total = sequence.count(\"1\"), len(sequence)\n",
    "    return [p1/total, 1 - p1/total]\n",
    "\n",
    "def run_cases(cases):\n",
    "    \"\"\" Calculates complexity and ensembles entropies for sequence of bools \"\"\"\n",
    "    measures = ep.measures([pmf(c) for c in cases], with_entropies=True)\n",
    "    [print(ep.LEGEND[k][0], v) for k,v in measures.items()]\n",
    "    return measures"
   ]
  },
  {
   "cell_type": "markdown",
   "id": "a99b2a57",
   "metadata": {},
   "source": [
    "## Ordered case"
   ]
  },
  {
   "cell_type": "code",
   "execution_count": 37,
   "id": "c217a64d",
   "metadata": {
    "scrolled": false
   },
   "outputs": [
    {
     "name": "stdout",
     "output_type": "stream",
     "text": [
      "Ensemble entropy 0.5740436758826583\n",
      "Ergodic entropy 0.5799151714181008\n",
      "Divergence 0.005871495535442528\n",
      "Ergodic complexity 0.004735160621059061\n",
      "Entropies of individual ensembles [0.6108643020548935, 0.5004024235381879, 0.6108643020548935]\n"
     ]
    }
   ],
   "source": [
    "ordered = run_cases([\"1110000000\", \"1100000000\", \"1110000000\"])"
   ]
  },
  {
   "cell_type": "markdown",
   "id": "636fbc5c",
   "metadata": {},
   "source": [
    "## Ergodically complex case"
   ]
  },
  {
   "cell_type": "code",
   "execution_count": 39,
   "id": "98f19bd9",
   "metadata": {
    "scrolled": true
   },
   "outputs": [
    {
     "name": "stdout",
     "output_type": "stream",
     "text": [
      "Ensemble entropy 0.3250829733914482\n",
      "Ergodic entropy 0.6571577614973405\n",
      "Divergence 0.3320747881058923\n",
      "Ergodic complexity 0.167803945044054\n",
      "Entropies of individual ensembles [0.3250829733914482, 0.3250829733914482, 0.3250829733914482]\n"
     ]
    }
   ],
   "source": [
    "erg = run_cases([\"1000000000\", \"0111111111\", \"0111111111\"])"
   ]
  },
  {
   "cell_type": "code",
   "execution_count": 40,
   "id": "31d0e2f0",
   "metadata": {},
   "outputs": [
    {
     "data": {
      "text/plain": [
       "35.43785701751404"
      ]
     },
     "execution_count": 40,
     "metadata": {},
     "output_type": "execute_result"
    }
   ],
   "source": [
    "erg['complexity']/ordered['complexity']"
   ]
  },
  {
   "cell_type": "markdown",
   "id": "e8621fa7",
   "metadata": {},
   "source": [
    "## Disordered case"
   ]
  },
  {
   "cell_type": "code",
   "execution_count": 13,
   "id": "efb20de6",
   "metadata": {},
   "outputs": [
    {
     "name": "stdout",
     "output_type": "stream",
     "text": [
      "Ensemble entropy 0.6108643020548935\n",
      "Ergodic entropy 0.6108643020548935\n",
      "Divergence 0.0\n",
      "Ergodic complexity 0.0\n",
      "Entropies of individual ensembles [0.6108643020548935, 0.6108643020548935, 0.6108643020548935]\n"
     ]
    }
   ],
   "source": [
    "disordered = run_cases([\"1011101011\", \"1110101101\", \"1110101110\"])"
   ]
  }
 ],
 "metadata": {
  "kernelspec": {
   "display_name": "complexity",
   "language": "python",
   "name": "complexity"
  },
  "language_info": {
   "codemirror_mode": {
    "name": "ipython",
    "version": 3
   },
   "file_extension": ".py",
   "mimetype": "text/x-python",
   "name": "python",
   "nbconvert_exporter": "python",
   "pygments_lexer": "ipython3",
   "version": "3.9.5"
  }
 },
 "nbformat": 4,
 "nbformat_minor": 5
}
