{
 "cells": [
  {
   "cell_type": "code",
   "execution_count": 1,
   "id": "c78afa22",
   "metadata": {},
   "outputs": [],
   "source": [
    "import nbsetup\n",
    "from simulations.snowflake.models import Snowflake"
   ]
  },
  {
   "cell_type": "code",
   "execution_count": null,
   "id": "3ccce6c6",
   "metadata": {},
   "outputs": [],
   "source": []
  }
 ],
 "metadata": {
  "kernelspec": {
   "display_name": "Python 3",
   "language": "python",
   "name": "python3"
  },
  "language_info": {
   "codemirror_mode": {
    "name": "ipython",
    "version": 3
   },
   "file_extension": ".py",
   "mimetype": "text/x-python",
   "name": "python",
   "nbconvert_exporter": "python",
   "pygments_lexer": "ipython3",
   "version": "3.9.5"
  }
 },
 "nbformat": 4,
 "nbformat_minor": 5
}
