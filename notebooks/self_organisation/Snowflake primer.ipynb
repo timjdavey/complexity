{
 "cells": [
  {
   "cell_type": "code",
   "execution_count": 1,
   "id": "2e2cc2c1",
   "metadata": {},
   "outputs": [],
   "source": [
    "import nbsetup\n",
    "import ergodicpy as ep\n",
    "import numpy as np\n",
    "import seaborn as sns\n",
    "import scipy as sp\n",
    "import pandas as pd\n",
    "from simulations.snowflake.models import Snowflake\n",
    "import matplotlib.pyplot as plt"
   ]
  },
  {
   "cell_type": "code",
   "execution_count": null,
   "id": "aca23945",
   "metadata": {},
   "outputs": [
    {
     "name": "stdout",
     "output_type": "stream",
     "text": [
      "19\n"
     ]
    }
   ],
   "source": [
    "ensembles = 50\n",
    "spikes = 3\n",
    "trials = 5\n",
    "\n",
    "def gen_flakes(count):\n",
    "    ms = []\n",
    "    for i in range(count):\n",
    "        nbsetup.cp(count-i)\n",
    "        ms.append(Snowflake(plot=False, spikes=spikes))\n",
    "    return ms\n",
    "\n",
    "models = gen_flakes(ensembles)\n",
    "trials = gen_flakes(trials)"
   ]
  },
  {
   "cell_type": "code",
   "execution_count": null,
   "id": "e6334b64",
   "metadata": {},
   "outputs": [],
   "source": [
    "states = 360\n",
    "histograms = [s.histogram(states=states) for s in models]\n",
    "ec = ep.ErgodicCollection(histograms)\n",
    "ec.complexity"
   ]
  },
  {
   "cell_type": "code",
   "execution_count": null,
   "id": "459e8478",
   "metadata": {
    "scrolled": false
   },
   "outputs": [],
   "source": [
    "data = []\n",
    "\n",
    "for t, s in enumerate(trials):\n",
    "    final_pmf = s.histogram(states=states)\n",
    "    ergodic_pmf = ec.ergodic_pmf()\n",
    "    \n",
    "    for d in range(10, s.steps, 50):\n",
    "        nbsetup.cp(t, d)\n",
    "        current_pmf = s.histogram(states=states, at_point=d)\n",
    "        \n",
    "        compare = sp.spatial.distance.jensenshannon\n",
    "        dd = {\n",
    "            'step': d,\n",
    "            'trial': t,\n",
    "            'actual difference (current x final)': compare(current_pmf, final_pmf),\n",
    "            'frequentist (ergodic x final)': compare(ergodic_pmf, final_pmf),\n",
    "        }\n",
    "        \n",
    "        for i in range(5):\n",
    "            swarm_pmf = ec.swarm_pmf(current_pmf, silent=True, mode=i)\n",
    "            dd['swarm (%s)' % i] = compare(swarm_pmf, final_pmf)\n",
    "        \n",
    "        data.append(dd)\n",
    "\n"
   ]
  },
  {
   "cell_type": "code",
   "execution_count": null,
   "id": "f348029a",
   "metadata": {},
   "outputs": [],
   "source": [
    "df = pd.DataFrame(data=data)\n",
    "sns.lineplot(data=df.melt(id_vars=['step', 'trial']), x='step', y='value', hue='variable')"
   ]
  },
  {
   "cell_type": "code",
   "execution_count": null,
   "id": "8fa4ca61",
   "metadata": {},
   "outputs": [],
   "source": []
  }
 ],
 "metadata": {
  "kernelspec": {
   "display_name": "Python 3",
   "language": "python",
   "name": "python3"
  },
  "language_info": {
   "codemirror_mode": {
    "name": "ipython",
    "version": 3
   },
   "file_extension": ".py",
   "mimetype": "text/x-python",
   "name": "python",
   "nbconvert_exporter": "python",
   "pygments_lexer": "ipython3",
   "version": "3.9.5"
  }
 },
 "nbformat": 4,
 "nbformat_minor": 5
}
