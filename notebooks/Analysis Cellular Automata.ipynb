{
 "cells": [
  {
   "cell_type": "code",
   "execution_count": 4,
   "id": "6b25d2c6",
   "metadata": {},
   "outputs": [],
   "source": [
    "import nbsetup\n",
    "import cellpylib as cpl\n",
    "from simulations.rbn.automata import CellularAutomata"
   ]
  },
  {
   "cell_type": "code",
   "execution_count": 3,
   "id": "410f8ae1",
   "metadata": {},
   "outputs": [
    {
     "ename": "TypeError",
     "evalue": "__init__() missing 1 required positional argument: 'rule'",
     "output_type": "error",
     "traceback": [
      "\u001b[0;31m---------------------------------------------------------------------------\u001b[0m",
      "\u001b[0;31mTypeError\u001b[0m                                 Traceback (most recent call last)",
      "\u001b[0;32m<ipython-input-3-553f120c6e94>\u001b[0m in \u001b[0;36m<module>\u001b[0;34m\u001b[0m\n\u001b[0;32m----> 1\u001b[0;31m \u001b[0mm\u001b[0m \u001b[0;34m=\u001b[0m \u001b[0mCellularAutomata\u001b[0m\u001b[0;34m(\u001b[0m\u001b[0;36m10\u001b[0m\u001b[0;34m)\u001b[0m\u001b[0;34m\u001b[0m\u001b[0;34m\u001b[0m\u001b[0m\n\u001b[0m",
      "\u001b[0;31mTypeError\u001b[0m: __init__() missing 1 required positional argument: 'rule'"
     ]
    }
   ],
   "source": [
    "m = CellularAutomata(10)"
   ]
  },
  {
   "cell_type": "code",
   "execution_count": 5,
   "id": "86a49f29",
   "metadata": {},
   "outputs": [
    {
     "data": {
      "image/png": "[encoded data removed]",
      "text/plain": [
       "<Figure size 432x288 with 1 Axes>"
      ]
     },
     "metadata": {
      "needs_background": "light"
     },
     "output_type": "display_data"
    }
   ],
   "source": [
    "import cellpylib as cpl\n",
    "\n",
    "# initialize a CA with 200 cells (a random initialization is also available) \n",
    "cellular_automaton = cpl.init_simple(200)\n",
    "\n",
    "# evolve the CA for 100 time steps, using Rule 30 as defined in NKS\n",
    "cellular_automaton = cpl.evolve(cellular_automaton, timesteps=100, \n",
    "                                apply_rule=lambda n, c, t: cpl.nks_rule(n, 30))\n",
    "\n",
    "# plot the resulting CA evolution\n",
    "cpl.plot(cellular_automaton)"
   ]
  },
  {
   "cell_type": "code",
   "execution_count": null,
   "id": "683f9213",
   "metadata": {},
   "outputs": [],
   "source": [
    "np.random"
   ]
  }
 ],
 "metadata": {
  "kernelspec": {
   "display_name": "Python 3",
   "language": "python",
   "name": "python3"
  },
  "language_info": {
   "codemirror_mode": {
    "name": "ipython",
    "version": 3
   },
   "file_extension": ".py",
   "mimetype": "text/x-python",
   "name": "python",
   "nbconvert_exporter": "python",
   "pygments_lexer": "ipython3",
   "version": "3.9.5"
  }
 },
 "nbformat": 4,
 "nbformat_minor": 5
}
