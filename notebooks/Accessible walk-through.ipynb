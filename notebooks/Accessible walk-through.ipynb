{
 "cells": [
  {
   "cell_type": "code",
   "execution_count": 17,
   "id": "b5d53223",
   "metadata": {},
   "outputs": [],
   "source": [
    "import nbsetup\n",
    "import numpy as np\n",
    "from helpers.entropy import shannon_entropy, complexity"
   ]
  },
  {
   "cell_type": "code",
   "execution_count": 42,
   "id": "4b605edc",
   "metadata": {},
   "outputs": [],
   "source": [
    "def calc(sequence):\n",
    "    p1 = sequence.count(\"1\")\n",
    "    total = len(sequence)\n",
    "    return shannon_entropy([p1/total, 1 - p1/total])\n",
    "\n",
    "def run_cases(cases):\n",
    "    entropies = []\n",
    "    for case in cases:\n",
    "        entropies.append(calc(case))\n",
    "    c = complexity(np.mean(entropies), calc(\"\".join(cases)))\n",
    "    print(entropies)\n",
    "    print(c)\n",
    "    "
   ]
  },
  {
   "cell_type": "code",
   "execution_count": 45,
   "id": "c217a64d",
   "metadata": {},
   "outputs": [
    {
     "name": "stdout",
     "output_type": "stream",
     "text": [
      "[0.8812908992306927, 0.7219280948873623, 0.9709505944546686]\n",
      "0.026364018653470267\n"
     ]
    }
   ],
   "source": [
    "run_cases([\"1110000000\", \"1100000000\", \"1111000000\"])"
   ]
  },
  {
   "cell_type": "code",
   "execution_count": 46,
   "id": "efb20de6",
   "metadata": {},
   "outputs": [
    {
     "name": "stdout",
     "output_type": "stream",
     "text": [
      "[0.8812908992306927, 0.8812908992306927, 0.8812908992306927]\n",
      "0.0\n"
     ]
    }
   ],
   "source": [
    "run_cases([\"1011101011\", \"1110101101\", \"1110101110\"])"
   ]
  },
  {
   "cell_type": "code",
   "execution_count": 51,
   "id": "98f19bd9",
   "metadata": {},
   "outputs": [
    {
     "name": "stdout",
     "output_type": "stream",
     "text": [
      "[0.4689955935892812, 0.4689955935892811, 0.4689955935892811]\n",
      "0.5053197383673239\n"
     ]
    }
   ],
   "source": [
    "run_cases([\"1000000000\", \"0111111111\", \"0111111111\"])"
   ]
  },
  {
   "cell_type": "code",
   "execution_count": null,
   "id": "55785bac",
   "metadata": {},
   "outputs": [],
   "source": []
  }
 ],
 "metadata": {
  "kernelspec": {
   "display_name": "complexity",
   "language": "python",
   "name": "complexity"
  },
  "language_info": {
   "codemirror_mode": {
    "name": "ipython",
    "version": 3
   },
   "file_extension": ".py",
   "mimetype": "text/x-python",
   "name": "python",
   "nbconvert_exporter": "python",
   "pygments_lexer": "ipython3",
   "version": "3.9.5"
  }
 },
 "nbformat": 4,
 "nbformat_minor": 5
}
