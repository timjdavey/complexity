{
 "cells": [
  {
   "cell_type": "code",
   "execution_count": 1,
   "id": "64c38a57",
   "metadata": {},
   "outputs": [],
   "source": [
    "import numpy as np\n",
    "import networkx as nx\n",
    "\n",
    "from mesa import Agent, Model\n",
    "from mesa.time import RandomActivation\n",
    "from mesa.datacollection import DataCollector\n",
    "from mesa.space import NetworkGrid"
   ]
  },
  {
   "cell_type": "code",
   "execution_count": null,
   "id": "78845335",
   "metadata": {},
   "outputs": [],
   "source": [
    "class Rule(object):\n",
    "    pass\n",
    "\n",
    "class RuleSet(object):\n",
    "    pass"
   ]
  },
  {
   "cell_type": "code",
   "execution_count": 2,
   "id": "d9250349",
   "metadata": {},
   "outputs": [],
   "source": [
    "class Node(Agent):\n",
    "    def __init__(self, state):\n",
    "        self.state = state"
   ]
  },
  {
   "cell_type": "code",
   "execution_count": null,
   "id": "95a5b41a",
   "metadata": {},
   "outputs": [],
   "source": [
    "class RandomBooleanNetwork(Model):\n",
    "    def __init__(self, nodes=20, connections=3)\n",
    "        \n",
    "        self.schedule = RandomActivation(self)\n",
    "        \n",
    "        self.grid = NetworkGrid\n",
    "        self.datacollector = DataCollector(\n",
    "            agent_reporters = {'state': 'state'},\n",
    "            model_reporters = {},\n",
    "        )\n",
    "        \n",
    "        \n",
    "        for i in range(nodes):\n",
    "            # state\n",
    "            state = self.random.random() < 0.5\n",
    "            n = Node()\n",
    "        \n",
    "    \n",
    "    def step(self):\n",
    "        self.datacollector.collect(self)\n",
    "        self.schedule.step()\n",
    "        \n",
    "            "
   ]
  },
  {
   "cell_type": "code",
   "execution_count": null,
   "id": "32cf34b2",
   "metadata": {},
   "outputs": [],
   "source": []
  }
 ],
 "metadata": {
  "kernelspec": {
   "display_name": "Python 3",
   "language": "python",
   "name": "python3"
  },
  "language_info": {
   "codemirror_mode": {
    "name": "ipython",
    "version": 3
   },
   "file_extension": ".py",
   "mimetype": "text/x-python",
   "name": "python",
   "nbconvert_exporter": "python",
   "pygments_lexer": "ipython3",
   "version": "3.9.5"
  }
 },
 "nbformat": 4,
 "nbformat_minor": 5
}
