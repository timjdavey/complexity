{
 "cells": [
  {
   "cell_type": "code",
   "execution_count": 3,
   "id": "0040fee8",
   "metadata": {},
   "outputs": [],
   "source": [
    "import numpy as np\n",
    "import networkx as nx\n",
    "\n",
    "from mesa import Agent, Model\n",
    "from mesa.time import RandomActivation\n",
    "from mesa.datacollection import DataCollector\n",
    "from mesa.space import NetworkGrid"
   ]
  },
  {
   "cell_type": "code",
   "execution_count": null,
   "id": "2efacb48",
   "metadata": {},
   "outputs": [],
   "source": [
    "class Rule(object):\n",
    "    pass\n",
    "\n",
    "class RuleSet(object):\n",
    "    pass"
   ]
  },
  {
   "cell_type": "code",
   "execution_count": 2,
   "id": "e40d8dcc",
   "metadata": {},
   "outputs": [],
   "source": [
    "class Node(Agent):\n",
    "    def __init__(self, state):\n",
    "        self.state = state"
   ]
  },
  {
   "cell_type": "code",
   "execution_count": null,
   "id": "33f5e4b8",
   "metadata": {},
   "outputs": [],
   "source": [
    "class RandomBooleanNetwork(Model):\n",
    "    def __init__(self, nodes=20, connections=3)\n",
    "        \n",
    "        self.schedule = RandomActivation(self)\n",
    "        \n",
    "        self.grid = NetworkGrid\n",
    "        self.datacollector = DataCollector(\n",
    "            agent_reporters = {'state': 'state'},\n",
    "            model_reporters = {},\n",
    "        )\n",
    "        \n",
    "        \n",
    "        for i in range(nodes):\n",
    "            # state\n",
    "            state = self.random.random() < 0.5\n",
    "            n = Node()\n",
    "            self.grid.place_agent(n, node)\n",
    "        \n",
    "    \n",
    "    def step(self):\n",
    "        self.datacollector.collect(self)\n",
    "        self.schedule.step()\n",
    "    \n",
    "    def simulate(self, distance):\n",
    "        for i in range(distance):\n",
    "            self.step()\n",
    "        \n",
    "            "
   ]
  },
  {
   "cell_type": "code",
   "execution_count": 23,
   "id": "10a01150",
   "metadata": {},
   "outputs": [],
   "source": [
    "G = nx.Graph()\n",
    "G.add_nodes_from(range(20))"
   ]
  },
  {
   "cell_type": "code",
   "execution_count": 32,
   "id": "f78991d4",
   "metadata": {},
   "outputs": [
    {
     "data": {
      "text/plain": [
       "['__class__',\n",
       " '__class_getitem__',\n",
       " '__contains__',\n",
       " '__delattr__',\n",
       " '__delitem__',\n",
       " '__dir__',\n",
       " '__doc__',\n",
       " '__eq__',\n",
       " '__format__',\n",
       " '__ge__',\n",
       " '__getattribute__',\n",
       " '__getitem__',\n",
       " '__gt__',\n",
       " '__hash__',\n",
       " '__init__',\n",
       " '__init_subclass__',\n",
       " '__ior__',\n",
       " '__iter__',\n",
       " '__le__',\n",
       " '__len__',\n",
       " '__lt__',\n",
       " '__ne__',\n",
       " '__new__',\n",
       " '__or__',\n",
       " '__reduce__',\n",
       " '__reduce_ex__',\n",
       " '__repr__',\n",
       " '__reversed__',\n",
       " '__ror__',\n",
       " '__setattr__',\n",
       " '__setitem__',\n",
       " '__sizeof__',\n",
       " '__str__',\n",
       " '__subclasshook__',\n",
       " 'clear',\n",
       " 'copy',\n",
       " 'fromkeys',\n",
       " 'get',\n",
       " 'items',\n",
       " 'keys',\n",
       " 'pop',\n",
       " 'popitem',\n",
       " 'setdefault',\n",
       " 'update',\n",
       " 'values']"
      ]
     },
     "execution_count": 32,
     "metadata": {},
     "output_type": "execute_result"
    }
   ],
   "source": [
    "dir(G.nodes[0])"
   ]
  },
  {
   "cell_type": "code",
   "execution_count": 34,
   "id": "09ee73ea",
   "metadata": {},
   "outputs": [],
   "source": [
    "G.add_edge(0,2)"
   ]
  },
  {
   "cell_type": "code",
   "execution_count": 46,
   "id": "82767aa0",
   "metadata": {},
   "outputs": [
    {
     "name": "stdout",
     "output_type": "stream",
     "text": [
      "1\n",
      "0\n",
      "1\n",
      "0\n",
      "0\n",
      "0\n",
      "0\n",
      "0\n",
      "0\n",
      "0\n",
      "0\n",
      "0\n",
      "0\n",
      "0\n",
      "0\n",
      "0\n",
      "0\n",
      "0\n",
      "0\n",
      "0\n"
     ]
    }
   ],
   "source": [
    "for n in G.nodes:\n",
    "    print(len(G[n]))"
   ]
  },
  {
   "cell_type": "code",
   "execution_count": null,
   "id": "138935d4",
   "metadata": {},
   "outputs": [],
   "source": []
  }
 ],
 "metadata": {
  "kernelspec": {
   "display_name": "Python 3",
   "language": "python",
   "name": "python3"
  },
  "language_info": {
   "codemirror_mode": {
    "name": "ipython",
    "version": 3
   },
   "file_extension": ".py",
   "mimetype": "text/x-python",
   "name": "python",
   "nbconvert_exporter": "python",
   "pygments_lexer": "ipython3",
   "version": "3.9.5"
  }
 },
 "nbformat": 4,
 "nbformat_minor": 5
}
