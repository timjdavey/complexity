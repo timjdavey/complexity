{
 "cells": [
  {
   "cell_type": "code",
   "execution_count": 1,
   "id": "8079d4b5",
   "metadata": {},
   "outputs": [],
   "source": [
    "import numpy as np\n",
    "import networkx as nx\n",
    "\n",
    "from mesa import Agent, Model\n",
    "from mesa.time import RandomActivation\n",
    "from mesa.datacollection import DataCollector\n",
    "from mesa.space import NetworkGrid"
   ]
  },
  {
   "cell_type": "code",
   "execution_count": null,
   "id": "10388af8",
   "metadata": {},
   "outputs": [],
   "source": [
    "class Rule(object):\n",
    "    pass\n",
    "\n",
    "class RuleSet(object):\n",
    "    pass"
   ]
  },
  {
   "cell_type": "code",
   "execution_count": null,
   "id": "4b9b0490",
   "metadata": {},
   "outputs": [],
   "source": [
    "class Node(Agent):\n",
    "    def __init__(self, state):\n",
    "        self.state = state"
   ]
  },
  {
   "cell_type": "code",
   "execution_count": null,
   "id": "442d89d2",
   "metadata": {},
   "outputs": [],
   "source": [
    "class RandomBooleanNetwork(Model):\n",
    "    def __init__(self, nodes=20, connections=3)\n",
    "        \n",
    "        self.schedule = RandomActivation(self)\n",
    "        \n",
    "        self.grid = NetworkGrid\n",
    "        self.datacollector = DataCollector(\n",
    "            agent_reporters = {'state': 'state'},\n",
    "            model_reporters = {},\n",
    "        )\n",
    "        \n",
    "        \n",
    "        for i in range(nodes):\n",
    "            # state\n",
    "            state = self.random.random() < 0.5\n",
    "            n = Node()\n",
    "            self.grid.place_agent(n, node)\n",
    "        \n",
    "    \n",
    "    def step(self):\n",
    "        self.datacollector.collect(self)\n",
    "        self.schedule.step()\n",
    "    \n",
    "    def simulate(self, distance):\n",
    "        for i in range(distance):\n",
    "            self.step()\n",
    "        \n",
    "            "
   ]
  },
  {
   "cell_type": "code",
   "execution_count": 253,
   "id": "6b27d173",
   "metadata": {},
   "outputs": [],
   "source": [
    "import numpy as np\n",
    "\n",
    "class GenFailed(RuntimeError):\n",
    "    pass\n",
    "\n",
    "def gen_RBN(nodes, edges):\n",
    "\n",
    "    G = nx.Graph()\n",
    "    G.add_nodes_from(range(nodes))\n",
    "    \n",
    "    # store which nodes are left to satisfy\n",
    "    needs_edges = list(G.nodes)\n",
    "    count = 0\n",
    "    \n",
    "    while len(needs_edges) > 1 and count < nodes**2:\n",
    "        \n",
    "        coming_from = np.random.choice(needs_edges)\n",
    "        other_nodes = needs_edges.copy()\n",
    "        other_nodes.remove(coming_from)\n",
    "        going_to = np.random.choice(other_nodes)\n",
    "        G.add_edge(coming_from, going_to)\n",
    "            \n",
    "        for x in (coming_from, going_to):\n",
    "            if len(G[x]) >= edges:\n",
    "                needs_edges.remove(x)\n",
    "        \n",
    "        # include this count as there's a bug in nx\n",
    "        # where sometimes add_edge does nothing\n",
    "        # which causes issues if at final 2\n",
    "        count += 1\n",
    "    \n",
    "    # have a built in check as it's a random\n",
    "    # algorithm it's possible it fails to generate\n",
    "    # for the given parameters\n",
    "    for i in G.nodes:\n",
    "        if len(G[i]) != edges:\n",
    "            raise GenFailed(\n",
    "                'gen_RBN failed to generate for %s nodes %s edges'\n",
    "                % (nodes, edges))\n",
    "    return G\n",
    "\n",
    "\n",
    "def gen_RBN_retry(nodes, edges, retries=5):\n",
    "    attempts = 0\n",
    "    while attempts < retries:\n",
    "        try:\n",
    "            return gen_RBN(nodes, edges)\n",
    "        except GenFailed:\n",
    "            attempts += 1\n",
    "    raise GenFailed(\"Total failure after %s attempts\" % attempts)\n",
    "        "
   ]
  },
  {
   "cell_type": "code",
   "execution_count": 256,
   "id": "77a9b5f7",
   "metadata": {
    "scrolled": true
   },
   "outputs": [],
   "source": [
    "g = gen_RBN_retry(20, 3)"
   ]
  },
  {
   "cell_type": "code",
   "execution_count": null,
   "id": "0eef9e34",
   "metadata": {},
   "outputs": [],
   "source": []
  }
 ],
 "metadata": {
  "kernelspec": {
   "display_name": "Python 3",
   "language": "python",
   "name": "python3"
  },
  "language_info": {
   "codemirror_mode": {
    "name": "ipython",
    "version": 3
   },
   "file_extension": ".py",
   "mimetype": "text/x-python",
   "name": "python",
   "nbconvert_exporter": "python",
   "pygments_lexer": "ipython3",
   "version": "3.9.5"
  }
 },
 "nbformat": 4,
 "nbformat_minor": 5
}
