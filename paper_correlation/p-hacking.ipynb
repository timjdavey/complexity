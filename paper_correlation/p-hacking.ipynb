{
 "cells": [
  {
   "cell_type": "code",
   "execution_count": 1,
   "id": "12c8cb1b",
   "metadata": {},
   "outputs": [],
   "source": [
    "import nbsetup\n",
    "import numpy as np\n",
    "import ergodicpy as ep\n",
    "from scipy.stats import chi2_contingency\n",
    "import pandas as pd"
   ]
  },
  {
   "cell_type": "code",
   "execution_count": 2,
   "id": "141347b5",
   "metadata": {},
   "outputs": [],
   "source": [
    "def chi2(data):\n",
    "    chi2, p, dof, expected = chi2_contingency(data)\n",
    "    result = \"Reject H0, they are dependant\" if p < 0.05 else \"Accept H0, they are independant\"\n",
    "    print('%s (X2=%s,p=%s)' % (result,chi2, p))\n",
    "    print(\"\")\n",
    "    print(np.array(data))\n",
    "    print(\"\")\n",
    "    print(\"%s ergodic complexity\" % ep.measures(data)['complexity'])\n",
    "    print(ep.measures(data))\n",
    "    #return \"Dependant\" if p < 0.05 else \"independant\"\n",
    "\n",
    "\n",
    "def split_ensemble(data, r=1):\n",
    "    data = np.array(data).copy()\n",
    "    row = data[r]/2\n",
    "    data[r] = row\n",
    "    data = np.append(data, [row], axis=0)\n",
    "    return data\n",
    "\n",
    "def double_ensemble(data, r=1):\n",
    "    data = np.array(data).copy()\n",
    "    data[r] *= 2\n",
    "    return data\n",
    "    "
   ]
  },
  {
   "cell_type": "markdown",
   "id": "3e6bc51f",
   "metadata": {},
   "source": [
    "https://helloml.org/an-introduction-to-the-chi-squared-test-with-examples/\n",
    "\n",
    "A Chi-Square test of independence uses the following null and alternative hypotheses:\n",
    "\n",
    "- H0: (null hypothesis) The two variables are independent.\n",
    "- H1: (alternative hypothesis) The two variables are not independent. (i.e. they are associated)\n",
    "\n",
    "If the p-value that corresponds to the test statistic X2 with (#rows-1)*(#columns-1) degrees of freedom is less than your chosen significance level then you can reject the null hypothesis."
   ]
  },
  {
   "cell_type": "markdown",
   "id": "305a707f",
   "metadata": {},
   "source": [
    "# Making dependant results independant"
   ]
  },
  {
   "cell_type": "markdown",
   "id": "07090d42",
   "metadata": {},
   "source": [
    "Let's say we are looking at something trivial such as a childs favourite color (my daughter's favourite is \"rainbow\" ¯\\\\\\_(ツ)\\_/¯).\n",
    "\n",
    "Here, for the sake of clarity, using the terminology of ergodic complexity - we're going to say that gender represents `ensembles` (i.e. different sample populations), while colour represents `states` of the system."
   ]
  },
  {
   "cell_type": "markdown",
   "id": "63c92ce2",
   "metadata": {},
   "source": [
    "First let's baseline with a data set where there is no preference of colour between girls and boys. We find that the p-value is > 0.05, so we accept the null hypothesis `H0` and say they are independant."
   ]
  },
  {
   "cell_type": "code",
   "execution_count": 3,
   "id": "cd66011f",
   "metadata": {},
   "outputs": [
    {
     "name": "stdout",
     "output_type": "stream",
     "text": [
      "Accept H0, they are independant (X2=0.8006317162769938,p=0.6701083534278778)\n",
      "\n",
      "[[100  20 150]\n",
      " [110  18 142]]\n",
      "\n",
      "0.0017245109787449866 ergodic complexity\n",
      "{'ensemble': 0.8857665289187394, 'ergodic': 0.8865080918127473, 'divergence': 0.0007415628940078967, 'complexity': 0.0017245109787449866, 'c2': 2.9739381158119915e-06, 'alt': 0.0018315745972641822, 'alt2': 3.3546655053434515e-06}\n"
     ]
    }
   ],
   "source": [
    "independant = [\n",
    "    # Blue, Green, Pink\n",
    "    [100, 20, 150], # boys\n",
    "    [110, 18, 142]] # girls\n",
    "\n",
    "chi2(independant)"
   ]
  },
  {
   "cell_type": "markdown",
   "id": "39310b56",
   "metadata": {},
   "source": [
    "Now let's take an another ficticous dataset, but this time where there is a preference between girls and boys. Where girls slightly prefer pink. We now find we reject `H0`."
   ]
  },
  {
   "cell_type": "code",
   "execution_count": 4,
   "id": "41dc81d6",
   "metadata": {},
   "outputs": [
    {
     "name": "stdout",
     "output_type": "stream",
     "text": [
      "Reject H0, they are dependant (X2=6.904690895639712,p=0.03167126589457268)\n",
      "\n",
      "[[100  20 150]\n",
      " [125  30 290]]\n",
      "\n",
      "0.03703540705484103 ergodic complexity\n",
      "{'ensemble': 0.8438453427023884, 'ergodic': 0.8486397166676904, 'divergence': 0.004794373965301995, 'complexity': 0.03703540705484103, 'c2': 0.0013716213757177685, 'alt': 0.04020272079714195, 'alt2': 0.0016162587594929496}\n"
     ]
    }
   ],
   "source": [
    "dependant = [\n",
    "    # Blue, Green, Pink\n",
    "    [100, 20, 150], # boys\n",
    "    [125, 30, 290]] # Boys\n",
    "\n",
    "chi2(dependant)"
   ]
  },
  {
   "cell_type": "markdown",
   "id": "4bbfb627",
   "metadata": {},
   "source": [
    "However, let's say we're unethical and this isn't the result we want. What we can do is split the girls ensemble in two and create an extra ensemble based on some other field we might have collected. Perhaps, girls > 5yrs and girls < 5 yrs."
   ]
  },
  {
   "cell_type": "code",
   "execution_count": 5,
   "id": "78ed5d25",
   "metadata": {
    "scrolled": true
   },
   "outputs": [
    {
     "name": "stdout",
     "output_type": "stream",
     "text": [
      "Accept H0, they are independant (X2=7.0217029380656095,p=0.13474575970649377)\n",
      "\n",
      "[[100.   20.  150. ]\n",
      " [ 62.   15.  145. ]\n",
      " [ 62.5  15.  145. ]]\n",
      "\n",
      "0.03732739287918715 ergodic complexity\n",
      "{'ensemble': 0.843545271692169, 'ergodic': 0.8484239681533361, 'divergence': 0.004878696461167182, 'complexity': 0.03732739287918715, 'c2': 0.0013933342591571913, 'alt': 0.04052482922312087, 'alt2': 0.001642261783563111}\n"
     ]
    }
   ],
   "source": [
    "chi2(split_ensemble(dependant))"
   ]
  },
  {
   "cell_type": "markdown",
   "id": "09f9cf7e",
   "metadata": {},
   "source": [
    "We now get the result that we accept `H0` and can say they are independant. Now this third ensemble may not stand up to scrutiny, however that doesn't matter in this case since we're got the hacked result we want. Logic says, if there's independance between girls of different ages and boys, they've certainly got to be independant is you aggregate girls together... right?"
   ]
  },
  {
   "cell_type": "markdown",
   "id": "40fd5725",
   "metadata": {},
   "source": [
    "### Why did this happen?\n",
    "\n",
    "It's all about volumes. To illustrate, let's say we have twice the number of girls to begin with because of some samplying bias. We still Reject H0 and say they are dependant."
   ]
  },
  {
   "cell_type": "code",
   "execution_count": 6,
   "id": "1f889f13",
   "metadata": {},
   "outputs": [
    {
     "name": "stdout",
     "output_type": "stream",
     "text": [
      "Reject H0, they are dependant (X2=8.67118971474828,p=0.013094082644208454)\n",
      "\n",
      "[[100  20 150]\n",
      " [250  60 580]]\n",
      "\n",
      "0.032424770961447594 ergodic complexity\n",
      "{'ensemble': 0.8337516114820531, 'ergodic': 0.8374155903356688, 'divergence': 0.003663978853615666, 'complexity': 0.032424770961447594, 'c2': 0.001051365771902335, 'alt': 0.035432875320335594, 'alt2': 0.0012554886534664473}\n"
     ]
    }
   ],
   "source": [
    "# double girls row\n",
    "chi2(double_ensemble(dependant))"
   ]
  },
  {
   "cell_type": "markdown",
   "id": "1f383d07",
   "metadata": {},
   "source": [
    "Now again, let's split the girls ensemble, so that it ends up Accepting H0 and saying it's independant."
   ]
  },
  {
   "cell_type": "code",
   "execution_count": 7,
   "id": "d6104621",
   "metadata": {},
   "outputs": [
    {
     "name": "stdout",
     "output_type": "stream",
     "text": [
      "Accept H0, they are independant (X2=8.671189714748278,p=0.06986472001847062)\n",
      "\n",
      "[[100.  20. 150.]\n",
      " [125.  30. 290.]\n",
      " [125.  30. 290.]]\n",
      "\n",
      "0.032424770961447594 ergodic complexity\n",
      "{'ensemble': 0.8337516114820531, 'ergodic': 0.8374155903356688, 'divergence': 0.003663978853615666, 'complexity': 0.032424770961447594, 'c2': 0.001051365771902335, 'alt': 0.035432875320335594, 'alt2': 0.0012554886534664473}\n"
     ]
    }
   ],
   "source": [
    "# duplicate girls row\n",
    "chi2(split_ensemble(double_ensemble(dependant)))"
   ]
  },
  {
   "cell_type": "code",
   "execution_count": 8,
   "id": "75f3b0a8",
   "metadata": {},
   "outputs": [
    {
     "name": "stdout",
     "output_type": "stream",
     "text": [
      "Reject H0, they are dependant (X2=6.904690895639712,p=0.03167126589457268)\n",
      "\n",
      "[[100  20 150]\n",
      " [125  30 290]]\n",
      "\n",
      "0.03703540705484103 ergodic complexity\n",
      "{'ensemble': 0.8438453427023884, 'ergodic': 0.8486397166676904, 'divergence': 0.004794373965301995, 'complexity': 0.03703540705484103, 'c2': 0.0013716213757177685, 'alt': 0.04020272079714195, 'alt2': 0.0016162587594929496}\n",
      "Reject H0, they are dependant (X2=13.809381791279423,p=0.03183948813397328)\n",
      "\n",
      "[[100.  20. 150.]\n",
      " [125.  30. 290.]\n",
      " [125.  30. 290.]\n",
      " [100.  20. 150.]]\n",
      "\n",
      "0.03703540705484103 ergodic complexity\n",
      "{'ensemble': 0.8438453427023884, 'ergodic': 0.8486397166676904, 'divergence': 0.004794373965301995, 'complexity': 0.03703540705484103, 'c2': 0.0013716213757177685, 'alt': 0.04020272079714195, 'alt2': 0.0016162587594929496}\n"
     ]
    }
   ],
   "source": [
    "# again for reference\n",
    "chi2(dependant)\n",
    "\n",
    "# double and split both\n",
    "chi2(split_ensemble(split_ensemble(double_ensemble(double_ensemble(dependant),0)),0))"
   ]
  },
  {
   "cell_type": "markdown",
   "id": "19ee66ce",
   "metadata": {},
   "source": [
    "The thing to notice, is here we find that X2 (Chi2) metric is the same for both datasets - which implies we should get the same result. However, because the Chi2 distribution only takes degree's of freedom into account (i.e. the number of states & number of ensembles) and not the number of observations - the resulting p-value is different."
   ]
  },
  {
   "cell_type": "markdown",
   "id": "2d1ed403",
   "metadata": {},
   "source": [
    "# Making independant results dependant"
   ]
  },
  {
   "cell_type": "markdown",
   "id": "4780da91",
   "metadata": {},
   "source": [
    "It's even easier doing this in reverse. You can even use states or ensembles. Here let's use states instead.\n",
    "\n",
    "Say you start with colors Blue, Green, Salmon Pink, Bright Pink. The results here show that there is no difference between girls and boys (they are independant)."
   ]
  },
  {
   "cell_type": "code",
   "execution_count": 9,
   "id": "0ad90825",
   "metadata": {},
   "outputs": [
    {
     "name": "stdout",
     "output_type": "stream",
     "text": [
      "Accept H0, they are independant (X2=7.089712585557464,p=0.06909263766557944)\n",
      "\n",
      "[[100  20  75  75]\n",
      " [110  18  50  50]]\n",
      "\n",
      "0.02515633555997716 ergodic complexity\n",
      "{'ensemble': 1.2472450176882064, 'ergodic': 1.254376603438616, 'divergence': 0.0071315857504095715, 'complexity': 0.02515633555997716, 'c2': 0.0006328412188061714, 'alt': 0.022461223362639653, 'alt2': 0.0005045065549463893}\n"
     ]
    }
   ],
   "source": [
    "more_states = [\n",
    "    # Blue, Green, Salmon Pink, Bright Pink\n",
    "    [100, 20, 75, 75], # boys\n",
    "    [110, 18, 50, 50]] # girls\n",
    "chi2(more_states)"
   ]
  },
  {
   "cell_type": "markdown",
   "id": "9b823309",
   "metadata": {},
   "source": [
    "And again, let's say you're unethical and this isn't the result you want. You can p-hack the results by grouping the pinks together into a single state. Now changing the result from Independant to Dependant."
   ]
  },
  {
   "cell_type": "code",
   "execution_count": 10,
   "id": "f7c87766",
   "metadata": {},
   "outputs": [
    {
     "name": "stdout",
     "output_type": "stream",
     "text": [
      "Reject H0, they are dependant (X2=7.089712585557464,p=0.028872771437316067)\n",
      "\n",
      "[[100  20 150]\n",
      " [110  18 100]]\n",
      "\n",
      "0.015697144681952067 ergodic complexity\n",
      "{'ensemble': 0.8992795655998804, 'ergodic': 0.9064111513502902, 'divergence': 0.007131585750409708, 'complexity': 0.015697144681952067, 'c2': 0.00024640035116613607, 'alt': 0.016487622726818627, 'alt2': 0.0002718417031819061}\n"
     ]
    }
   ],
   "source": [
    "fewer_states = [\n",
    "    # Blue, Green, Pink\n",
    "    [100, 20, 75*2], # boys\n",
    "    [110, 18, 50*2]] # girls\n",
    "chi2(fewer_states)"
   ]
  },
  {
   "cell_type": "markdown",
   "id": "7c4017ae",
   "metadata": {},
   "source": [
    "Again we can see the X2 results are identical (because the same total volumes of observations were used) but the p-values now varied because the degree's of freedom has changed."
   ]
  },
  {
   "cell_type": "code",
   "execution_count": null,
   "id": "aa5f4deb",
   "metadata": {},
   "outputs": [],
   "source": []
  }
 ],
 "metadata": {
  "kernelspec": {
   "display_name": "Python 3",
   "language": "python",
   "name": "python3"
  },
  "language_info": {
   "codemirror_mode": {
    "name": "ipython",
    "version": 3
   },
   "file_extension": ".py",
   "mimetype": "text/x-python",
   "name": "python",
   "nbconvert_exporter": "python",
   "pygments_lexer": "ipython3",
   "version": "3.9.5"
  }
 },
 "nbformat": 4,
 "nbformat_minor": 5
}
