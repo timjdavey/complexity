{
 "cells": [
  {
   "cell_type": "code",
   "execution_count": 1,
   "id": "5f49d81a",
   "metadata": {},
   "outputs": [],
   "source": [
    "import nbsetup\n",
    "import numpy as np\n",
    "import ergodicpy as ep\n",
    "from scipy.stats import chi2_contingency\n",
    "import pandas as pd"
   ]
  },
  {
   "cell_type": "code",
   "execution_count": 2,
   "id": "3f8b009a",
   "metadata": {},
   "outputs": [],
   "source": [
    "def chi2(data):\n",
    "    chi2, p, dof, expected = chi2_contingency(data)\n",
    "    result = \"Reject H0, they are dependant\" if p < 0.05 else \"Accept H0, they are independant\"\n",
    "    print('%s (X2=%s,p=%s)' % (result,chi2, p))\n",
    "    print(\"\")\n",
    "    print(np.array(data))\n",
    "    print(\"\")\n",
    "    print(\"%s ergodic complexity\" % ep.measures(data)['complexity'])\n",
    "    print(ep.measures(data))\n",
    "    #return \"Dependant\" if p < 0.05 else \"independant\"\n",
    "\n",
    "\n",
    "def split_ensemble(data, r=1):\n",
    "    data = np.array(data).copy()\n",
    "    row = data[r]/2\n",
    "    data[r] = row\n",
    "    data = np.append(data, [row], axis=0)\n",
    "    return data\n",
    "\n",
    "def double_ensemble(data, r=1):\n",
    "    data = np.array(data).copy()\n",
    "    data[r] *= 2\n",
    "    return data\n",
    "    "
   ]
  },
  {
   "cell_type": "markdown",
   "id": "758baca9",
   "metadata": {},
   "source": [
    "https://helloml.org/an-introduction-to-the-chi-squared-test-with-examples/\n",
    "\n",
    "A Chi-Square test of independence uses the following null and alternative hypotheses:\n",
    "\n",
    "- H0: (null hypothesis) The two variables are independent.\n",
    "- H1: (alternative hypothesis) The two variables are not independent. (i.e. they are associated)\n",
    "\n",
    "If the p-value that corresponds to the test statistic X2 with (#rows-1)*(#columns-1) degrees of freedom is less than your chosen significance level then you can reject the null hypothesis."
   ]
  },
  {
   "cell_type": "markdown",
   "id": "56a0e3b2",
   "metadata": {},
   "source": [
    "# Making dependant results independant"
   ]
  },
  {
   "cell_type": "markdown",
   "id": "edee7338",
   "metadata": {},
   "source": [
    "Let's say we are looking at something trivial such as a childs favourite color (my daughter's favourite is \"rainbow\" ¯\\\\\\_(ツ)\\_/¯).\n",
    "\n",
    "Here, for the sake of clarity, using the terminology of ergodic complexity - we're going to say that gender represents `ensembles` (i.e. different sample populations), while colour represents `states` of the system."
   ]
  },
  {
   "cell_type": "markdown",
   "id": "117cffec",
   "metadata": {},
   "source": [
    "First let's baseline with a data set where there is no preference of colour between girls and boys. We find that the p-value is > 0.05, so we accept the null hypothesis `H0` and say they are independant."
   ]
  },
  {
   "cell_type": "code",
   "execution_count": 160,
   "id": "97d48562",
   "metadata": {},
   "outputs": [
    {
     "name": "stdout",
     "output_type": "stream",
     "text": [
      "Accept H0, they are independant (X2=0.8006317162769938,p=0.6701083534278778)\n",
      "\n",
      "[[100  20 150]\n",
      " [110  18 142]]\n",
      "\n",
      "0.0017245109787449866 ergodic complexity\n",
      "{'ensemble': 0.8857665289187394, 'ergodic': 0.8865080918127473, 'divergence': 0.0007415628940078967, 'complexity': 0.0017245109787449866, 'tau2': 0.0009148173887354706, 'tau2p': 0.9758709038312277}\n"
     ]
    }
   ],
   "source": [
    "independant = [\n",
    "    # Blue, Green, Pink\n",
    "    [100, 20, 150], # boys\n",
    "    [110, 18, 142]] # girls\n",
    "\n",
    "chi2(independant)"
   ]
  },
  {
   "cell_type": "markdown",
   "id": "59a25dfd",
   "metadata": {},
   "source": [
    "Now let's take an another ficticous dataset, but this time where there is a preference between girls and boys. Where girls slightly prefer pink. We now find we reject `H0`."
   ]
  },
  {
   "cell_type": "code",
   "execution_count": 161,
   "id": "5912d63c",
   "metadata": {},
   "outputs": [
    {
     "name": "stdout",
     "output_type": "stream",
     "text": [
      "Reject H0, they are dependant (X2=6.904690895639712,p=0.03167126589457268)\n",
      "\n",
      "[[100  20 150]\n",
      " [125  30 290]]\n",
      "\n",
      "0.03703540705484103 ergodic complexity\n",
      "{'ensemble': 0.8438453427023884, 'ergodic': 0.8486397166676904, 'divergence': 0.004794373965301995, 'complexity': 0.03703540705484103, 'tau2': 0.42192642765375166, 'tau2p': 0.5159773562368908}\n"
     ]
    }
   ],
   "source": [
    "dependant = [\n",
    "    # Blue, Green, Pink\n",
    "    [100, 20, 150], # boys\n",
    "    [125, 30, 290]] # Boys\n",
    "\n",
    "chi2(dependant)"
   ]
  },
  {
   "cell_type": "markdown",
   "id": "8e4e8e9e",
   "metadata": {},
   "source": [
    "However, let's say we're unethical and this isn't the result we want. What we can do is split the girls ensemble in two and create an extra ensemble based on some other field we might have collected. Perhaps, girls > 5yrs and girls < 5 yrs."
   ]
  },
  {
   "cell_type": "code",
   "execution_count": 162,
   "id": "beaf7303",
   "metadata": {
    "scrolled": true
   },
   "outputs": [
    {
     "name": "stdout",
     "output_type": "stream",
     "text": [
      "Accept H0, they are independant (X2=7.0217029380656095,p=0.13474575970649377)\n",
      "\n",
      "[[100.   20.  150. ]\n",
      " [ 62.   15.  145. ]\n",
      " [ 62.5  15.  145. ]]\n",
      "\n",
      "0.03732739287918715 ergodic complexity\n",
      "{'ensemble': 0.843545271692169, 'ergodic': 0.8484239681533361, 'divergence': 0.004878696461167182, 'complexity': 0.03732739287918715, 'tau2': 0.4286055590130628, 'tau2p': 0.5126739735780768}\n"
     ]
    }
   ],
   "source": [
    "chi2(split_ensemble(dependant))"
   ]
  },
  {
   "cell_type": "markdown",
   "id": "2301629a",
   "metadata": {},
   "source": [
    "We now get the result that we accept `H0` and can say they are independant. Now this third ensemble may not stand up to scrutiny, however that doesn't matter in this case since we're got the hacked result we want. Logic says, if there's independance between girls of different ages and boys, they've certainly got to be independant is you aggregate girls together... right?"
   ]
  },
  {
   "cell_type": "markdown",
   "id": "ad04fa9d",
   "metadata": {},
   "source": [
    "### Why did this happen?\n",
    "\n",
    "It's all about volumes. To illustrate, let's say we have twice the number of girls to begin with because of some samplying bias. We still Reject H0 and say they are dependant."
   ]
  },
  {
   "cell_type": "code",
   "execution_count": 163,
   "id": "2e9a0197",
   "metadata": {},
   "outputs": [
    {
     "name": "stdout",
     "output_type": "stream",
     "text": [
      "Reject H0, they are dependant (X2=8.67118971474828,p=0.013094082644208454)\n",
      "\n",
      "[[100  20 150]\n",
      " [250  60 580]]\n",
      "\n",
      "0.032424770961447594 ergodic complexity\n",
      "{'ensemble': 0.8337516114820531, 'ergodic': 0.8374155903356688, 'divergence': 0.003663978853615666, 'complexity': 0.032424770961447594, 'tau2': 0.32341213993114265, 'tau2p': 0.569564253404966}\n"
     ]
    }
   ],
   "source": [
    "# double girls row\n",
    "chi2(double_ensemble(dependant))"
   ]
  },
  {
   "cell_type": "markdown",
   "id": "eba3f508",
   "metadata": {},
   "source": [
    "Now again, let's split the girls ensemble, so that it ends up Accepting H0 and saying it's independant."
   ]
  },
  {
   "cell_type": "code",
   "execution_count": 164,
   "id": "15484193",
   "metadata": {},
   "outputs": [
    {
     "name": "stdout",
     "output_type": "stream",
     "text": [
      "Accept H0, they are independant (X2=8.671189714748278,p=0.06986472001847062)\n",
      "\n",
      "[[100.  20. 150.]\n",
      " [125.  30. 290.]\n",
      " [125.  30. 290.]]\n",
      "\n",
      "0.032424770961447594 ergodic complexity\n",
      "{'ensemble': 0.8337516114820531, 'ergodic': 0.8374155903356688, 'divergence': 0.003663978853615666, 'complexity': 0.032424770961447594, 'tau2': 0.32341213993114265, 'tau2p': 0.569564253404966}\n"
     ]
    }
   ],
   "source": [
    "# duplicate girls row\n",
    "chi2(split_ensemble(double_ensemble(dependant)))"
   ]
  },
  {
   "cell_type": "code",
   "execution_count": 165,
   "id": "66f8452b",
   "metadata": {},
   "outputs": [
    {
     "name": "stdout",
     "output_type": "stream",
     "text": [
      "Reject H0, they are dependant (X2=6.904690895639712,p=0.03167126589457268)\n",
      "\n",
      "[[100  20 150]\n",
      " [125  30 290]]\n",
      "\n",
      "0.03703540705484103 ergodic complexity\n",
      "{'ensemble': 0.8438453427023884, 'ergodic': 0.8486397166676904, 'divergence': 0.004794373965301995, 'complexity': 0.03703540705484103, 'tau2': 0.42192642765375166, 'tau2p': 0.5159773562368908}\n",
      "Reject H0, they are dependant (X2=13.809381791279423,p=0.03183948813397328)\n",
      "\n",
      "[[100.  20. 150.]\n",
      " [125.  30. 290.]\n",
      " [125.  30. 290.]\n",
      " [100.  20. 150.]]\n",
      "\n",
      "0.03703540705484103 ergodic complexity\n",
      "{'ensemble': 0.8438453427023884, 'ergodic': 0.8486397166676904, 'divergence': 0.004794373965301995, 'complexity': 0.03703540705484103, 'tau2': 0.42192642765375166, 'tau2p': 0.5159773562368908}\n"
     ]
    }
   ],
   "source": [
    "# again for reference\n",
    "chi2(dependant)\n",
    "\n",
    "# double and split both\n",
    "chi2(split_ensemble(split_ensemble(double_ensemble(double_ensemble(dependant),0)),0))"
   ]
  },
  {
   "cell_type": "markdown",
   "id": "57695409",
   "metadata": {},
   "source": [
    "The thing to notice, is here we find that X2 (Chi2) metric is the same for both datasets - which implies we should get the same result. However, because the Chi2 distribution only takes degree's of freedom into account (i.e. the number of states & number of ensembles) and not the number of observations - the resulting p-value is different."
   ]
  },
  {
   "cell_type": "markdown",
   "id": "a1b9c945",
   "metadata": {},
   "source": [
    "# Making independant results dependant"
   ]
  },
  {
   "cell_type": "markdown",
   "id": "7ded5e89",
   "metadata": {},
   "source": [
    "It's even easier doing this in reverse. You can even use states or ensembles. Here let's use states instead.\n",
    "\n",
    "Say you start with colors Blue, Green, Salmon Pink, Bright Pink. The results here show that there is no difference between girls and boys (they are independant)."
   ]
  },
  {
   "cell_type": "code",
   "execution_count": 166,
   "id": "a41bdeb0",
   "metadata": {},
   "outputs": [
    {
     "name": "stdout",
     "output_type": "stream",
     "text": [
      "Accept H0, they are independant (X2=7.089712585557464,p=0.06909263766557944)\n",
      "\n",
      "[[100  20  75  75]\n",
      " [110  18  50  50]]\n",
      "\n",
      "0.02515633555997716 ergodic complexity\n",
      "{'ensemble': 1.2472450176882064, 'ergodic': 1.254376603438616, 'divergence': 0.0071315857504095715, 'complexity': 0.02515633555997716, 'tau2': 0.2456451796722656, 'tau2p': 0.6201582713595564}\n"
     ]
    }
   ],
   "source": [
    "more_states = [\n",
    "    # Blue, Green, Salmon Pink, Bright Pink\n",
    "    [100, 20, 75, 75], # boys\n",
    "    [110, 18, 50, 50]] # girls\n",
    "chi2(more_states)"
   ]
  },
  {
   "cell_type": "markdown",
   "id": "9a6a7e61",
   "metadata": {},
   "source": [
    "And again, let's say you're unethical and this isn't the result you want. You can p-hack the results by grouping the pinks together into a single state. Now changing the result from Independant to Dependant."
   ]
  },
  {
   "cell_type": "code",
   "execution_count": 167,
   "id": "0bf1a851",
   "metadata": {},
   "outputs": [
    {
     "name": "stdout",
     "output_type": "stream",
     "text": [
      "Reject H0, they are dependant (X2=7.089712585557464,p=0.028872771437316067)\n",
      "\n",
      "[[100  20 150]\n",
      " [110  18 100]]\n",
      "\n",
      "0.015697144681952067 ergodic complexity\n",
      "{'ensemble': 0.8992795655998804, 'ergodic': 0.9064111513502902, 'divergence': 0.007131585750409708, 'complexity': 0.015697144681952067, 'tau2': 0.07579556704251132, 'tau2p': 0.7830781228754189}\n"
     ]
    }
   ],
   "source": [
    "fewer_states = [\n",
    "    # Blue, Green, Pink\n",
    "    [100, 20, 75*2], # boys\n",
    "    [110, 18, 50*2]] # girls\n",
    "chi2(fewer_states)"
   ]
  },
  {
   "cell_type": "markdown",
   "id": "23dd6a6a",
   "metadata": {},
   "source": [
    "Again we can see the X2 results are identical (because the same total volumes of observations were used) but the p-values now varied because the degree's of freedom has changed."
   ]
  },
  {
   "cell_type": "code",
   "execution_count": 168,
   "id": "777a5ba9",
   "metadata": {},
   "outputs": [],
   "source": [
    "def analyse(data, units='bits'):\n",
    "    erg = ep.ergodic_entropy(data, weights=None, units=units)\n",
    "    print('erg', ep.ergodic_ensemble(data), erg)\n",
    "    ents = ep.ensemble_entropies(data, units=units)\n",
    "    print('ents', ents)\n",
    "    print('divs', [(erg-e) for e in ents])\n",
    "    print('complexity', ep.measures(data, units=units)['complexity'])\n",
    "    return ents"
   ]
  },
  {
   "cell_type": "code",
   "execution_count": 169,
   "id": "a700f83d",
   "metadata": {},
   "outputs": [
    {
     "name": "stdout",
     "output_type": "stream",
     "text": [
      "erg [0.5 0.5] 1.0\n",
      "ents [1.0, 1.0]\n",
      "divs [0.0, 0.0]\n",
      "complexity 0.0\n"
     ]
    },
    {
     "data": {
      "text/plain": [
       "[1.0, 1.0]"
      ]
     },
     "execution_count": 169,
     "metadata": {},
     "output_type": "execute_result"
    }
   ],
   "source": [
    "analyse([[0.5, 0.5], [0.5, 0.5]])"
   ]
  },
  {
   "cell_type": "code",
   "execution_count": 170,
   "id": "71e6858a",
   "metadata": {},
   "outputs": [
    {
     "name": "stdout",
     "output_type": "stream",
     "text": [
      "erg [0.5  0.25 0.25] 1.5\n",
      "ents [1.5, 1.5]\n",
      "divs [0.0, 0.0]\n",
      "complexity 0.0\n"
     ]
    },
    {
     "data": {
      "text/plain": [
       "[1.5, 1.5]"
      ]
     },
     "execution_count": 170,
     "metadata": {},
     "output_type": "execute_result"
    }
   ],
   "source": [
    "analyse([[0.5, 0.25, 0.25], [0.5, 0.25, 0.25]])"
   ]
  },
  {
   "cell_type": "code",
   "execution_count": 171,
   "id": "4c001cfd",
   "metadata": {},
   "outputs": [
    {
     "name": "stdout",
     "output_type": "stream",
     "text": [
      "erg [0.25 0.25 0.25 0.25] 2.0\n",
      "ents [2.0, 2.0]\n",
      "divs [0.0, 0.0]\n",
      "complexity 0.0\n"
     ]
    },
    {
     "data": {
      "text/plain": [
       "[2.0, 2.0]"
      ]
     },
     "execution_count": 171,
     "metadata": {},
     "output_type": "execute_result"
    }
   ],
   "source": [
    "analyse([[0.25, 0.25, 0.25, 0.25], [0.25, 0.25, 0.25, 0.25]])"
   ]
  },
  {
   "cell_type": "code",
   "execution_count": 172,
   "id": "464061a2",
   "metadata": {},
   "outputs": [
    {
     "name": "stdout",
     "output_type": "stream",
     "text": [
      "erg [0.85 0.15] 0.6098403047164003\n",
      "ents [0.7219280948873623, 0.4689955935892812]\n",
      "divs [-0.11208779017096204, 0.14084471112711905]\n",
      "complexity 0.16298795588578477\n",
      "\n",
      "erg [0.425 0.425 0.075 0.075] 1.6098403047164005\n",
      "ents [1.7219280948873623, 1.4689955935892813]\n",
      "divs [-0.11208779017096182, 0.14084471112711916]\n",
      "complexity 0.10031645504205548\n"
     ]
    },
    {
     "data": {
      "text/plain": [
       "[1.7219280948873623, 1.4689955935892813]"
      ]
     },
     "execution_count": 172,
     "metadata": {},
     "output_type": "execute_result"
    }
   ],
   "source": [
    "analyse([[0.8, 0.2], [0.9, 0.1]])\n",
    "print(\"\")\n",
    "analyse([[0.4, 0.4, 0.1, 0.1], [0.45, 0.45, 0.05, 0.05]])"
   ]
  },
  {
   "cell_type": "code",
   "execution_count": 173,
   "id": "09ee7662",
   "metadata": {},
   "outputs": [
    {
     "name": "stdout",
     "output_type": "stream",
     "text": [
      "erg [0.85 0.15] 0.6098403047164003\n",
      "ents [0.7219280948873623, 0.4689955935892812]\n",
      "divs [-0.11208779017096204, 0.14084471112711905]\n",
      "complexity 0.16298795588578477\n",
      "\n",
      "erg [0.325 0.525 0.15 ] 1.4255741644244848\n",
      "ents [1.5219280948873621, 1.236160254373812]\n",
      "divs [-0.09635393046287732, 0.18941391005067287]\n",
      "complexity 0.12585639254381126\n"
     ]
    }
   ],
   "source": [
    "less = analyse([[0.8, 0.2], [0.9, 0.1]])\n",
    "print(\"\")\n",
    "more = analyse([[0.4,0.4, 0.2], [0.25,0.65, 0.1]])"
   ]
  },
  {
   "cell_type": "code",
   "execution_count": 174,
   "id": "d5495c18",
   "metadata": {},
   "outputs": [
    {
     "data": {
      "text/plain": [
       "array([0.8       , 0.76716466])"
      ]
     },
     "execution_count": 174,
     "metadata": {},
     "output_type": "execute_result"
    }
   ],
   "source": [
    "np.array(more)-np.array(less)"
   ]
  },
  {
   "cell_type": "code",
   "execution_count": 175,
   "id": "52b2bc89",
   "metadata": {
    "scrolled": false
   },
   "outputs": [
    {
     "name": "stderr",
     "output_type": "stream",
     "text": [
      "<ipython-input-175-38d3722d1604>:16: RuntimeWarning: divide by zero encountered in log2\n",
      "  'p': -(f*np.log2(f)+(s)*np.log2(s))*i,\n",
      "<ipython-input-175-38d3722d1604>:16: RuntimeWarning: invalid value encountered in double_scalars\n",
      "  'p': -(f*np.log2(f)+(s)*np.log2(s))*i,\n"
     ]
    },
    {
     "data": {
      "text/plain": [
       "<AxesSubplot:xlabel='i', ylabel='p'>"
      ]
     },
     "execution_count": 175,
     "metadata": {},
     "output_type": "execute_result"
    },
    {
     "data": {
      "image/png": "[encoded data removed]",
      "text/plain": [
       "<Figure size 432x288 with 2 Axes>"
      ]
     },
     "metadata": {
      "needs_background": "light"
     },
     "output_type": "display_data"
    }
   ],
   "source": [
    "upper = 0.5\n",
    "lower = 0.0\n",
    "\n",
    "data = []\n",
    "for n in ep.binspace(lower,upper,20):\n",
    "    for i in ep.binspace(lower,upper,20):\n",
    "        f, s = n, 1-n\n",
    "        m = ep.shannon_entropy([i*(f),i*(s), 1-i], units='bits')\n",
    "        l = ep.shannon_entropy([i, 1-i], units='bits')\n",
    "        data.append({\n",
    "            'n': n,\n",
    "            'i': i,\n",
    "            'm': m,\n",
    "            'l': l,\n",
    "            'y': m-l,\n",
    "            'p': -(f*np.log2(f)+(s)*np.log2(s))*i,\n",
    "        })\n",
    "\n",
    "df = pd.DataFrame(data=data)\n",
    "import matplotlib.pyplot as plt\n",
    "fig, axes = plt.subplots(1, 2)\n",
    "sns.lineplot(data=df, x='i', y='y', hue='n', palette='icefire', ax=axes[0])\n",
    "sns.lineplot(data=df, x='i', y='p', hue='n', ax=axes[1])"
   ]
  },
  {
   "cell_type": "code",
   "execution_count": 142,
   "id": "b4d54ceb",
   "metadata": {},
   "outputs": [
    {
     "name": "stderr",
     "output_type": "stream",
     "text": [
      "<ipython-input-142-2ab17c16cf42>:8: RuntimeWarning: divide by zero encountered in log2\n",
      "  sns.scatterplot(x=xx, y=[-(x*np.log2(x)+(1-x)*np.log2(1-x)) for x in xx])\n",
      "<ipython-input-142-2ab17c16cf42>:8: RuntimeWarning: invalid value encountered in double_scalars\n",
      "  sns.scatterplot(x=xx, y=[-(x*np.log2(x)+(1-x)*np.log2(1-x)) for x in xx])\n"
     ]
    },
    {
     "data": {
      "text/plain": [
       "<AxesSubplot:>"
      ]
     },
     "execution_count": 142,
     "metadata": {},
     "output_type": "execute_result"
    },
    {
     "data": {
      "image/png": "[encoded data removed]",
      "text/plain": [
       "<Figure size 432x288 with 1 Axes>"
      ]
     },
     "metadata": {
      "needs_background": "light"
     },
     "output_type": "display_data"
    }
   ],
   "source": [
    "xx = df['n'].unique()\n",
    "yy = []\n",
    "for n in xx:\n",
    "    up = float(df[(df['n'] == n) & (df['i'] == upper)]['y'])\n",
    "    lo = float(df[(df['n'] == n) & (df['i'] == lower)]['y'])\n",
    "    yy.append((up-lo)/(upper-lower))\n",
    "sns.scatterplot(x=xx, y=[y for y in yy])\n",
    "sns.scatterplot(x=xx, y=[-(x*np.log2(x)+(1-x)*np.log2(1-x)) for x in xx])"
   ]
  },
  {
   "cell_type": "code",
   "execution_count": null,
   "id": "64a1d56d",
   "metadata": {},
   "outputs": [],
   "source": []
  }
 ],
 "metadata": {
  "kernelspec": {
   "display_name": "Python 3",
   "language": "python",
   "name": "python3"
  },
  "language_info": {
   "codemirror_mode": {
    "name": "ipython",
    "version": 3
   },
   "file_extension": ".py",
   "mimetype": "text/x-python",
   "name": "python",
   "nbconvert_exporter": "python",
   "pygments_lexer": "ipython3",
   "version": "3.9.5"
  }
 },
 "nbformat": 4,
 "nbformat_minor": 5
}
