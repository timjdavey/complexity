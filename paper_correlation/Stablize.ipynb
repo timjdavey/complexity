{
 "cells": [
  {
   "cell_type": "code",
   "execution_count": 1,
   "id": "2ed94bb3",
   "metadata": {},
   "outputs": [],
   "source": [
    "import nbsetup\n",
    "import numpy as np\n",
    "import seaborn as sns\n",
    "import pandas as pd\n",
    "import ergodicpy as ep\n",
    "import matplotlib.pyplot as plt\n",
    "import scipy as sp\n",
    "\n",
    "SAVE_FIGURES = False"
   ]
  },
  {
   "cell_type": "code",
   "execution_count": null,
   "id": "ab39e4b8",
   "metadata": {},
   "outputs": [],
   "source": [
    "x = np.random.uniform(o)"
   ]
  }
 ],
 "metadata": {
  "kernelspec": {
   "display_name": "Python 3",
   "language": "python",
   "name": "python3"
  },
  "language_info": {
   "codemirror_mode": {
    "name": "ipython",
    "version": 3
   },
   "file_extension": ".py",
   "mimetype": "text/x-python",
   "name": "python",
   "nbconvert_exporter": "python",
   "pygments_lexer": "ipython3",
   "version": "3.9.5"
  }
 },
 "nbformat": 4,
 "nbformat_minor": 5
}
