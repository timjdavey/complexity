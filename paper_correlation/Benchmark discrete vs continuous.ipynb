{
 "cells": [
  {
   "cell_type": "code",
   "execution_count": 8,
   "id": "c03544a8",
   "metadata": {},
   "outputs": [],
   "source": [
    "import nbsetup\n",
    "import numpy as np\n",
    "import scipy as sp\n",
    "import ergodicpy as ep"
   ]
  },
  {
   "cell_type": "code",
   "execution_count": 11,
   "id": "f246ed7b",
   "metadata": {},
   "outputs": [],
   "source": [
    "OBS = 2000"
   ]
  },
  {
   "cell_type": "code",
   "execution_count": 12,
   "id": "2c1ebe61",
   "metadata": {},
   "outputs": [],
   "source": [
    "sample = np.random.normal(5,2,OBS)"
   ]
  },
  {
   "cell_type": "code",
   "execution_count": 13,
   "id": "388cd0d2",
   "metadata": {},
   "outputs": [
    {
     "data": {
      "text/plain": [
       "[2, 5, 10, 7.600902459542082, 200.0]"
      ]
     },
     "execution_count": 13,
     "metadata": {},
     "output_type": "execute_result"
    }
   ],
   "source": [
    "bs = [2,5,10,np.log(OBS), OBS/20, OBS/10]\n",
    "bs"
   ]
  },
  {
   "cell_type": "code",
   "execution_count": 17,
   "id": "308824a2",
   "metadata": {},
   "outputs": [],
   "source": [
    "ents = []\n",
    "\n",
    "for b in bs:\n",
    "    bins = ep.binr(observations=[sample], count=int(b))\n",
    "    pmf, _ = np.histogram(sample, bins)\n",
    "    val = ep.shannon_entropy(pmf, normalise=True)\n",
    "    ents.append(val)"
   ]
  },
  {
   "cell_type": "code",
   "execution_count": 18,
   "id": "0c4dd32c",
   "metadata": {},
   "outputs": [
    {
     "data": {
      "text/plain": [
       "2.108280195299363"
      ]
     },
     "execution_count": 18,
     "metadata": {},
     "output_type": "execute_result"
    }
   ],
   "source": [
    "sp.stats.differential_entropy(sample)"
   ]
  },
  {
   "cell_type": "code",
   "execution_count": 19,
   "id": "97bfedc8",
   "metadata": {},
   "outputs": [
    {
     "data": {
      "text/plain": [
       "[0.6607921971525883,\n",
       " 1.1367218788683526,\n",
       " 1.7741813313224744,\n",
       " 1.435901939172677,\n",
       " 4.704587332644189]"
      ]
     },
     "execution_count": 19,
     "metadata": {},
     "output_type": "execute_result"
    }
   ],
   "source": [
    "ents"
   ]
  },
  {
   "cell_type": "code",
   "execution_count": null,
   "id": "6b201236",
   "metadata": {},
   "outputs": [],
   "source": []
  }
 ],
 "metadata": {
  "kernelspec": {
   "display_name": "Python 3",
   "language": "python",
   "name": "python3"
  },
  "language_info": {
   "codemirror_mode": {
    "name": "ipython",
    "version": 3
   },
   "file_extension": ".py",
   "mimetype": "text/x-python",
   "name": "python",
   "nbconvert_exporter": "python",
   "pygments_lexer": "ipython3",
   "version": "3.9.5"
  }
 },
 "nbformat": 4,
 "nbformat_minor": 5
}
