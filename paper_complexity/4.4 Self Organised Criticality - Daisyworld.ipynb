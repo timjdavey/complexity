{
 "cells": [
  {
   "cell_type": "code",
   "execution_count": 1,
   "id": "4e212617",
   "metadata": {},
   "outputs": [],
   "source": [
    "import nbsetup as nb\n",
    "import numpy as np\n",
    "import ergodicpy as ep\n",
    "\n",
    "from simulations.daisy_world.series import series, scan"
   ]
  },
  {
   "cell_type": "code",
   "execution_count": 2,
   "id": "8617e821",
   "metadata": {},
   "outputs": [],
   "source": [
    "pop3 = {'white': {'albedo': 0.75, 'initial': 0.3}, 'black': {'albedo': 0.25, 'initial': 0.3}}"
   ]
  },
  {
   "cell_type": "markdown",
   "id": "408e527c",
   "metadata": {},
   "source": [
    "# Self organised criticality\n",
    "\n",
    "This often refers to criticality that exists within a system which is self organised. Here we see Daisyworld model is self organised, as based on a variety of macro-variables & micro-variables, the system tends to the same state. Most importantly, the point of the model is to show that the temperatures remain extremely consistent across no matter the luminosity value.\n",
    "\n",
    "Below we ran the daisyworld experiment for 200 steps and for a range of luminosity values from 0.5 to 1.8. What we see here as the complexity trend values, is the mean of the final 50% of values."
   ]
  },
  {
   "cell_type": "code",
   "execution_count": null,
   "id": "14308b13",
   "metadata": {},
   "outputs": [
    {
     "name": "stdout",
     "output_type": "stream",
     "text": [
      "luminosity: 0.8571428571428572, steps left: 106\n"
     ]
    }
   ],
   "source": [
    "wv = scan(luminosities=np.linspace(0.45, 1.5, 99), population=pop3, cp=nb.cp)"
   ]
  },
  {
   "cell_type": "markdown",
   "id": "a45dd6df",
   "metadata": {},
   "source": [
    "The complexity trends above 0.3 for the following luminosity values."
   ]
  },
  {
   "cell_type": "code",
   "execution_count": null,
   "id": "a5178936",
   "metadata": {},
   "outputs": [],
   "source": [
    "list(df.loc[df['complexity trend'] > 0.3].index)"
   ]
  },
  {
   "cell_type": "markdown",
   "id": "c294192a",
   "metadata": {},
   "source": [
    "## First critical point\n",
    "\n",
    "The first is where the world goes from being too dark to be inhabitable at all. At the critical point, in some we find there's a critical mass of dark daisies that they begin to flourish, reducing the planet's albedo enough so that the temperature increases and the dark daises can populate to the optimal level for the planet. However, in others around that critical point we see that the entropy of the system drops off the zero, where all the plants have simply died out.\n",
    "\n",
    "So effectively the system is mechanistic."
   ]
  },
  {
   "cell_type": "code",
   "execution_count": null,
   "id": "7cd337d4",
   "metadata": {},
   "outputs": [],
   "source": [
    "print(\"luminosity:\", wv.x[0])\n",
    "x = wv.y[0].plot()"
   ]
  },
  {
   "cell_type": "markdown",
   "id": "1bb51e8c",
   "metadata": {},
   "source": [
    "Where as at the critical point, we can see some individual entropy lines crashing to zero as the system dies, while others surviving but simply tending to the same low entropy state as they reach a stable equilibrium of some black daises surviving."
   ]
  },
  {
   "cell_type": "code",
   "execution_count": null,
   "id": "8e5c8892",
   "metadata": {},
   "outputs": [],
   "source": [
    "x = wv.map[0.5265306122448979].plot()"
   ]
  },
  {
   "cell_type": "markdown",
   "id": "d967f592",
   "metadata": {},
   "source": [
    "## The second critical point\n",
    "\n",
    "Has a similar picture, but where this is when both white and black daises can live together. But since this is a point of criticality, although when white daises do survive they self organise to a stable level, at this point of criticality the ergodic complexity arises because the systems self organise to different equilibriums."
   ]
  },
  {
   "cell_type": "code",
   "execution_count": null,
   "id": "c06d401a",
   "metadata": {},
   "outputs": [],
   "source": [
    "x = wv.map[0.8714285714285714].plot()"
   ]
  },
  {
   "cell_type": "markdown",
   "id": "db747dd3",
   "metadata": {},
   "source": [
    "We can see this by looking around luminosity of 1.0, where the system becomes stable, they all tend to the same self organised distribution."
   ]
  },
  {
   "cell_type": "code",
   "execution_count": null,
   "id": "69f0fd44",
   "metadata": {},
   "outputs": [],
   "source": [
    "x = wv.map[1.0040816326530613].plot()"
   ]
  },
  {
   "cell_type": "markdown",
   "id": "023582c1",
   "metadata": {},
   "source": [
    "Looking the at histograms at the final step where 0 = no daises, 1 = white daises, 2 = black daises. We see their distributions are very similar, particularly comparing this to the ergodic complexity distribution."
   ]
  },
  {
   "cell_type": "code",
   "execution_count": null,
   "id": "2ed463e1",
   "metadata": {
    "scrolled": true
   },
   "outputs": [],
   "source": [
    "wv.map[1.0040816326530613].ees[-1].plot()"
   ]
  },
  {
   "cell_type": "markdown",
   "id": "e2eca6a9",
   "metadata": {},
   "source": [
    "##  Third peak"
   ]
  },
  {
   "cell_type": "markdown",
   "id": "767328c6",
   "metadata": {},
   "source": [
    "At the third peak the self organisation breaks down as the worlds can no longer sustain black daises. We start see many more worlds tending to zero and dieing out completely. While also a few worlds able to sustain some black daises but to varying degrees. Showing here that how \"self organised\" the system is during this period starts to break down, as it doesn't stablise into the same equilibrium everytime even when the world survives."
   ]
  },
  {
   "cell_type": "code",
   "execution_count": null,
   "id": "62b59be8",
   "metadata": {},
   "outputs": [],
   "source": [
    "third_peak = wv.map[1.203061224489796]\n",
    "x = third_peak.plot()"
   ]
  },
  {
   "cell_type": "code",
   "execution_count": null,
   "id": "88734ae2",
   "metadata": {
    "scrolled": true
   },
   "outputs": [],
   "source": [
    "third_peak.ees[-1].plot()"
   ]
  },
  {
   "cell_type": "markdown",
   "id": "f5754f99",
   "metadata": {},
   "source": [
    "Then the left plotted as a ridge plot for clarity."
   ]
  },
  {
   "cell_type": "code",
   "execution_count": null,
   "id": "6942ba0c",
   "metadata": {},
   "outputs": [],
   "source": [
    "third_peak.ees[-1].ridge()"
   ]
  },
  {
   "cell_type": "markdown",
   "id": "42fc5cd5",
   "metadata": {},
   "source": [
    "## Final plot\n",
    "\n",
    "While the final luminosity we inspected 1.8 shows that the world is now happily stable with only white daises."
   ]
  },
  {
   "cell_type": "code",
   "execution_count": null,
   "id": "510c0aa9",
   "metadata": {},
   "outputs": [],
   "source": [
    "wv.y[-1].ees[-1].plot()"
   ]
  },
  {
   "cell_type": "code",
   "execution_count": null,
   "id": "26ec2733",
   "metadata": {},
   "outputs": [],
   "source": []
  }
 ],
 "metadata": {
  "kernelspec": {
   "display_name": "Python 3",
   "language": "python",
   "name": "python3"
  },
  "language_info": {
   "codemirror_mode": {
    "name": "ipython",
    "version": 3
   },
   "file_extension": ".py",
   "mimetype": "text/x-python",
   "name": "python",
   "nbconvert_exporter": "python",
   "pygments_lexer": "ipython3",
   "version": "3.9.5"
  }
 },
 "nbformat": 4,
 "nbformat_minor": 5
}
