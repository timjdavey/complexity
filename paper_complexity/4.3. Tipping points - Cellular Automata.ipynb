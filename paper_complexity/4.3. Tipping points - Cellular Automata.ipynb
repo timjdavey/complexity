{
 "cells": [
  {
   "cell_type": "code",
   "execution_count": 1,
   "id": "5a196088",
   "metadata": {},
   "outputs": [],
   "source": [
    "import nbsetup as nb\n",
    "import numpy as np\n",
    "import ergodicpy as ep\n",
    "import seaborn as sns\n",
    "import pandas as pd\n",
    "from simulations.automata.models import CA1DEnsemble\n",
    "import warnings\n",
    "warnings.filterwarnings('ignore')"
   ]
  },
  {
   "cell_type": "code",
   "execution_count": 2,
   "id": "d4539436",
   "metadata": {
    "scrolled": false
   },
   "outputs": [],
   "source": [
    "def cas_for_p(rule=226, cells=100, ensembles=20, steps=100, increments=100):\n",
    "    cas = {}\n",
    "    ps = np.linspace(0.0, 1.0, increments)\n",
    "    for p in ps:\n",
    "        nb.cp(p)\n",
    "        # generate ensembles for each increment of p\n",
    "        ca = CA1DEnsemble(rule=rule, cells=cells, count=ensembles, init='sparse',p=p)\n",
    "        ca.run(steps)\n",
    "        ca.analyse()\n",
    "        cas[p] = ca\n",
    "    return cas\n",
    "\n",
    "def plot_complexity(cas, ignore_unstables=True, xlim=(0.1, 0.9), ylim=(0,1)):\n",
    "    dataframe = pd.concat([c.get_analysis('complexity (2)') for c in cas.values()], ignore_index=True)\n",
    "    dataframe['p'] = cas.keys()\n",
    "    h = sns.lineplot(data=dataframe.melt(id_vars='p'), x='p', y='value', hue='variable', palette='mako')\n",
    "    sns.lineplot(y=dataframe.drop(columns='p').sum(axis=1), x=dataframe['p'], label=\"Sum\")\n",
    "    h.set(xlim=xlim, ylim=ylim)\n",
    "    return dataframe"
   ]
  },
  {
   "cell_type": "markdown",
   "id": "40cad0cf",
   "metadata": {},
   "source": [
    "# Initial conditions\n",
    "\n",
    "One of the hypothesis of ergodic complexity, is that complex cases are so tricky to comes to grips with because they are particularly sensitive to initial conditions. Put in the terms of statistical / termodyanmics terminology, given differences in micro-variables (like initial positions of particles) even when macro-variables (like total number of particles) is consistent, the end results of the system does not converge across ensembles.\n",
    "\n",
    "Scanning across the results of _p_ (p is the % of cells that start as a 1 rather than a 0), we find that for the example disordered case (rule 30) and the mechanistic simple case (rule 0) this holds as we expect in the thermodynamic case."
   ]
  },
  {
   "cell_type": "code",
   "execution_count": 3,
   "id": "5984a109",
   "metadata": {
    "scrolled": true
   },
   "outputs": [
    {
     "name": "stdout",
     "output_type": "stream",
     "text": [
      "1.0\n"
     ]
    },
    {
     "data": {
      "image/png": "[encoded data removed]",
      "text/plain": [
       "<Figure size 432x288 with 1 Axes>"
      ]
     },
     "metadata": {
      "needs_background": "light"
     },
     "output_type": "display_data"
    }
   ],
   "source": [
    "cas30 = cas_for_p(rule=30, increments=20)\n",
    "cas30_complexities = plot_complexity(cas30)"
   ]
  },
  {
   "cell_type": "code",
   "execution_count": null,
   "id": "1df8e6c2",
   "metadata": {},
   "outputs": [
    {
     "name": "stdout",
     "output_type": "stream",
     "text": [
      "0.0\n"
     ]
    }
   ],
   "source": [
    "cas0 = cas_for_p(rule=0, increments=20)\n",
    "cas0_complexities = plot_complexity(cas0, ylim=(-0.01, 1))"
   ]
  },
  {
   "cell_type": "markdown",
   "id": "2cc628bb",
   "metadata": {},
   "source": [
    "## Complex case\n",
    "\n",
    "However, what we find, is for the ergodically complex case (rule 226) we see that the complexity is high with varying initial conditions.\n",
    "\n",
    "Here because there are a few ways to calculate entropy, we've calculated the ergodic complexity for each method of entropy calculation and below we are looking at the sum of those calculations."
   ]
  },
  {
   "cell_type": "code",
   "execution_count": null,
   "id": "d96036aa",
   "metadata": {},
   "outputs": [],
   "source": [
    "cas226 = cas_for_p(rule=226, increments=100)\n",
    "cas226_complexities = plot_complexity(cas226, ylim=(0, None))"
   ]
  },
  {
   "cell_type": "markdown",
   "id": "70d2882a",
   "metadata": {},
   "source": [
    "# Tipping point\n",
    "\n",
    "More specifically, what we find is we see near _p=0.5_ is a spike in complexity, which often indicates a tipping point. More interestingly, we see that the diagonal complexity in particular swaps at this point. Looking at the results we find the following.\n",
    "\n",
    "Where this pattern creates diagonals, but in particular depending on _p_ the direction of those diagonals changes."
   ]
  },
  {
   "cell_type": "code",
   "execution_count": null,
   "id": "c6f60739",
   "metadata": {
    "scrolled": true
   },
   "outputs": [],
   "source": [
    "p25 = cas226[0.25252525252525254].plot()"
   ]
  },
  {
   "cell_type": "code",
   "execution_count": null,
   "id": "36de0494",
   "metadata": {},
   "outputs": [],
   "source": [
    "p73 = cas226[0.7373737373737375].plot()"
   ]
  },
  {
   "cell_type": "markdown",
   "id": "7f7d3f23",
   "metadata": {},
   "source": [
    "Where it gets interesting is in the middle, where the stripes become more dense, since the number of stripes is dependant on _p_. We start seeing a small amount of flipping, as illustrated by looking at what you might call ghosting when looking at the heatmap (overlay) of all the ensembles on the left. Where we start seeing some ensembles going the other way."
   ]
  },
  {
   "cell_type": "code",
   "execution_count": null,
   "id": "7dc4d053",
   "metadata": {},
   "outputs": [],
   "source": [
    "p4 = cas226[0.4141414141414142].plot()"
   ]
  },
  {
   "cell_type": "markdown",
   "id": "8bcd6eaa",
   "metadata": {},
   "source": [
    "While then at the middle, we find this flipping to be at the ergodic complexity peak."
   ]
  },
  {
   "cell_type": "code",
   "execution_count": null,
   "id": "512a1be8",
   "metadata": {
    "scrolled": true
   },
   "outputs": [],
   "source": [
    "p5 = cas226[0.5050505050505051].plot()"
   ]
  }
 ],
 "metadata": {
  "kernelspec": {
   "display_name": "Python 3",
   "language": "python",
   "name": "python3"
  },
  "language_info": {
   "codemirror_mode": {
    "name": "ipython",
    "version": 3
   },
   "file_extension": ".py",
   "mimetype": "text/x-python",
   "name": "python",
   "nbconvert_exporter": "python",
   "pygments_lexer": "ipython3",
   "version": "3.9.5"
  }
 },
 "nbformat": 4,
 "nbformat_minor": 5
}
